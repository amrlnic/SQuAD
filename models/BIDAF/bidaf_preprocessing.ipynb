{
  "nbformat": 4,
  "nbformat_minor": 0,
  "metadata": {
    "colab": {
      "name": "bidaf_preprocessing.ipynb",
      "provenance": [],
      "collapsed_sections": []
    },
    "kernelspec": {
      "display_name": "Python 3",
      "language": "python",
      "name": "python3"
    },
    "language_info": {
      "codemirror_mode": {
        "name": "ipython",
        "version": 3
      },
      "file_extension": ".py",
      "mimetype": "text/x-python",
      "name": "python",
      "nbconvert_exporter": "python",
      "pygments_lexer": "ipython3",
      "version": "3.8.6"
    }
  },
  "cells": [
    {
      "cell_type": "markdown",
      "metadata": {
        "id": "VrXpyz2vZhs1"
      },
      "source": [
        "In order to run this notebook, the first things you should do are :\n",
        "* pip install pandas numpy tensorflow nltk gensim sklearn\n",
        "* modify the `SQUAD_PATH` variable (path to squad file)\n",
        "* modify all others paths (where to save datasets, tokenizers...)\n",
        "\n"
      ]
    },
    {
      "cell_type": "code",
      "metadata": {
        "colab": {
          "base_uri": "https://localhost:8080/"
        },
        "id": "Nu7xctUn0yvF",
        "outputId": "31115826-6205-4f72-c0a7-11d07892b5cb"
      },
      "source": [
        "!git clone https://github.com/amrlnic/SQuAD.git"
      ],
      "execution_count": 1,
      "outputs": [
        {
          "output_type": "stream",
          "text": [
            "Cloning into 'SQuAD'...\n",
            "remote: Enumerating objects: 136, done.\u001b[K\n",
            "remote: Counting objects: 100% (136/136), done.\u001b[K\n",
            "remote: Compressing objects: 100% (111/111), done.\u001b[K\n",
            "remote: Total 136 (delta 62), reused 65 (delta 16), pack-reused 0\u001b[K\n",
            "Receiving objects: 100% (136/136), 25.45 MiB | 8.30 MiB/s, done.\n",
            "Resolving deltas: 100% (62/62), done.\n"
          ],
          "name": "stdout"
        }
      ]
    },
    {
      "cell_type": "code",
      "metadata": {
        "colab": {
          "base_uri": "https://localhost:8080/"
        },
        "id": "hETK3Axg43yB",
        "outputId": "3f784ae2-fbf2-42eb-9657-bca46ead454d"
      },
      "source": [
        "import json\n",
        "import os\n",
        "import pandas as pd\n",
        "import numpy as np\n",
        "import tensorflow as tf\n",
        "import nltk\n",
        "from nltk import word_tokenize\n",
        "nltk.download('punkt')\n",
        "import gensim.downloader as gloader\n",
        "from sklearn.model_selection import train_test_split\n",
        "import re\n",
        "import pickle\n",
        "import tensorflow as tf"
      ],
      "execution_count": 3,
      "outputs": [
        {
          "output_type": "stream",
          "text": [
            "[nltk_data] Downloading package punkt to /root/nltk_data...\n",
            "[nltk_data]   Unzipping tokenizers/punkt.zip.\n"
          ],
          "name": "stdout"
        }
      ]
    },
    {
      "cell_type": "code",
      "metadata": {
        "id": "VqLS5R574tdD"
      },
      "source": [
        "EMBEDDING_SIZE = 300\n",
        "SQUAD_PATH = os.path.join(os.getcwd(), '/content/SQuAD/models/BIDAF/utils/data/training_set.json')\n",
        "\n",
        "def load_dataset(path, record_path = ['data', 'paragraphs', 'qas', 'answers'], verbose = True, with_answer = True):\n",
        "\n",
        "  \"\"\"\n",
        "  parse the SQUAD dataset into a dataframe\n",
        "  \"\"\"\n",
        "\n",
        "  if verbose:\n",
        "      print(\"Reading the json file\")\n",
        "  # if the file encoding is not UTF8 an exception should be raised    \n",
        "  file = json.loads(open(path).read())\n",
        "\n",
        "  if verbose:\n",
        "      print(\"[INFO] processing...\")\n",
        "\n",
        "  # parsing different level's in the json file\n",
        "  if with_answer:\n",
        "    js = pd.json_normalize(file , record_path )\n",
        "  m = pd.json_normalize(file, record_path[:-1] )\n",
        "  r = pd.json_normalize(file, record_path[:-2])\n",
        "  title = pd.json_normalize(file['data'], record_path = ['paragraphs'], meta = 'title')\n",
        "  t = pd.json_normalize(file, record_path[0])\n",
        "\n",
        "  #combining it into single dataframe\n",
        "  contexts = np.repeat(r['context'].values, r['qas'].str.len())\n",
        "  m['context'] = contexts\n",
        "  m['title'] = np.repeat(title['title'].values, r['qas'].str.len())\n",
        "  m['c_id'] = m['context'].factorize()[0]\n",
        "  m = m.drop(['answers'], axis = 1)\n",
        "\n",
        "  if with_answer:\n",
        "    main = js.merge(m, left_index = True, right_index = True)\n",
        "  else:\n",
        "    main = m\n",
        "  if verbose:\n",
        "      print(f\"[INFO] there are {main.shape[0]} questions with single answer\")\n",
        "      print(f\"[INFO] there are {main.groupby('c_id').sum().shape[0]} different contexts\")\n",
        "      print(f\"[INFO] there are {len(t)} unrelated subjects\")\n",
        "      print(\"[INFO] Done\")\n",
        "  return main\n",
        "\n",
        "def download_glove_model(embedding_dimension = 50):\n",
        "\n",
        "  \"\"\"\n",
        "  download glove model\n",
        "  \"\"\"\n",
        "\n",
        "  download_path = \"glove-wiki-gigaword-{}\".format(embedding_dimension)\n",
        "  try:\n",
        "    print('[INFO] downloading glove {}'.format(embedding_dimension))\n",
        "    emb_model = gloader.load(download_path)\n",
        "    print('[INFO] done !')\n",
        "  except ValueError as e:\n",
        "      print(\"Glove: 50, 100, 200, 300\")\n",
        "      raise e\n",
        "  return emb_model"
      ],
      "execution_count": 6,
      "outputs": []
    },
    {
      "cell_type": "code",
      "metadata": {
        "colab": {
          "base_uri": "https://localhost:8080/"
        },
        "id": "2virMOF85A8W",
        "outputId": "ed158c98-419c-417a-8151-c321967b192b"
      },
      "source": [
        "squad_dataset = load_dataset(SQUAD_PATH)"
      ],
      "execution_count": 7,
      "outputs": [
        {
          "output_type": "stream",
          "text": [
            "Reading the json file\n",
            "[INFO] processing...\n",
            "[INFO] there are 87599 questions with single answer\n",
            "[INFO] there are 18891 different contexts\n",
            "[INFO] there are 442 unrelated subjects\n",
            "[INFO] Done\n"
          ],
          "name": "stdout"
        }
      ]
    },
    {
      "cell_type": "code",
      "metadata": {
        "colab": {
          "base_uri": "https://localhost:8080/",
          "height": 279
        },
        "id": "lzHPUWA45dzO",
        "outputId": "ddcccf9d-234e-49e1-a890-bcd929985ed4"
      },
      "source": [
        "squad_dataset.head()"
      ],
      "execution_count": 8,
      "outputs": [
        {
          "output_type": "execute_result",
          "data": {
            "text/html": [
              "<div>\n",
              "<style scoped>\n",
              "    .dataframe tbody tr th:only-of-type {\n",
              "        vertical-align: middle;\n",
              "    }\n",
              "\n",
              "    .dataframe tbody tr th {\n",
              "        vertical-align: top;\n",
              "    }\n",
              "\n",
              "    .dataframe thead th {\n",
              "        text-align: right;\n",
              "    }\n",
              "</style>\n",
              "<table border=\"1\" class=\"dataframe\">\n",
              "  <thead>\n",
              "    <tr style=\"text-align: right;\">\n",
              "      <th></th>\n",
              "      <th>answer_start</th>\n",
              "      <th>text</th>\n",
              "      <th>question</th>\n",
              "      <th>id</th>\n",
              "      <th>context</th>\n",
              "      <th>title</th>\n",
              "      <th>c_id</th>\n",
              "    </tr>\n",
              "  </thead>\n",
              "  <tbody>\n",
              "    <tr>\n",
              "      <th>0</th>\n",
              "      <td>515</td>\n",
              "      <td>Saint Bernadette Soubirous</td>\n",
              "      <td>To whom did the Virgin Mary allegedly appear i...</td>\n",
              "      <td>5733be284776f41900661182</td>\n",
              "      <td>Architecturally, the school has a Catholic cha...</td>\n",
              "      <td>University_of_Notre_Dame</td>\n",
              "      <td>0</td>\n",
              "    </tr>\n",
              "    <tr>\n",
              "      <th>1</th>\n",
              "      <td>188</td>\n",
              "      <td>a copper statue of Christ</td>\n",
              "      <td>What is in front of the Notre Dame Main Building?</td>\n",
              "      <td>5733be284776f4190066117f</td>\n",
              "      <td>Architecturally, the school has a Catholic cha...</td>\n",
              "      <td>University_of_Notre_Dame</td>\n",
              "      <td>0</td>\n",
              "    </tr>\n",
              "    <tr>\n",
              "      <th>2</th>\n",
              "      <td>279</td>\n",
              "      <td>the Main Building</td>\n",
              "      <td>The Basilica of the Sacred heart at Notre Dame...</td>\n",
              "      <td>5733be284776f41900661180</td>\n",
              "      <td>Architecturally, the school has a Catholic cha...</td>\n",
              "      <td>University_of_Notre_Dame</td>\n",
              "      <td>0</td>\n",
              "    </tr>\n",
              "    <tr>\n",
              "      <th>3</th>\n",
              "      <td>381</td>\n",
              "      <td>a Marian place of prayer and reflection</td>\n",
              "      <td>What is the Grotto at Notre Dame?</td>\n",
              "      <td>5733be284776f41900661181</td>\n",
              "      <td>Architecturally, the school has a Catholic cha...</td>\n",
              "      <td>University_of_Notre_Dame</td>\n",
              "      <td>0</td>\n",
              "    </tr>\n",
              "    <tr>\n",
              "      <th>4</th>\n",
              "      <td>92</td>\n",
              "      <td>a golden statue of the Virgin Mary</td>\n",
              "      <td>What sits on top of the Main Building at Notre...</td>\n",
              "      <td>5733be284776f4190066117e</td>\n",
              "      <td>Architecturally, the school has a Catholic cha...</td>\n",
              "      <td>University_of_Notre_Dame</td>\n",
              "      <td>0</td>\n",
              "    </tr>\n",
              "  </tbody>\n",
              "</table>\n",
              "</div>"
            ],
            "text/plain": [
              "   answer_start  ... c_id\n",
              "0           515  ...    0\n",
              "1           188  ...    0\n",
              "2           279  ...    0\n",
              "3           381  ...    0\n",
              "4            92  ...    0\n",
              "\n",
              "[5 rows x 7 columns]"
            ]
          },
          "metadata": {
            "tags": []
          },
          "execution_count": 8
        }
      ]
    },
    {
      "cell_type": "code",
      "metadata": {
        "id": "oCWKKV2RAhML"
      },
      "source": [
        "SAMPLES = squad_dataset.shape[0]\n",
        "\n",
        "def preprocess_sentence(text):\n",
        "\n",
        "  \"\"\"\n",
        "  lowercase and strip the given text\n",
        "  \"\"\"\n",
        "\n",
        "  text = text.lower()\n",
        "  text = text.strip()\n",
        "  return text\n",
        "\n",
        "def clean_dataset(dataset, with_answer = True):\n",
        "\n",
        "  \"\"\"\n",
        "  preprocess the dataset\n",
        "  \"\"\"\n",
        "\n",
        "  _dataset = dataset.copy()\n",
        "\n",
        "  cleaned_questions = _dataset['question'].apply(preprocess_sentence)\n",
        "\n",
        "  # we process only different contexts and then we duplicate them\n",
        "  unique_context = pd.Series(_dataset['context'].unique())\n",
        "  count_c = _dataset.groupby('c_id').size()\n",
        "  cleaned_contexts = unique_context.apply(preprocess_sentence)\n",
        "\n",
        "  _dataset['question'] = cleaned_questions\n",
        "\n",
        "  if with_answer:\n",
        "    cleaned_texts = _dataset['text'].apply(preprocess_sentence)\n",
        "    _dataset['text'] = cleaned_texts\n",
        "  _dataset['context'] = pd.Series(np.repeat(cleaned_contexts, count_c).tolist())\n",
        "\n",
        "  return _dataset"
      ],
      "execution_count": 9,
      "outputs": []
    },
    {
      "cell_type": "code",
      "metadata": {
        "id": "HSVZ45xxqqqz"
      },
      "source": [
        "squad_dataset = clean_dataset(squad_dataset)"
      ],
      "execution_count": 10,
      "outputs": []
    },
    {
      "cell_type": "code",
      "metadata": {
        "id": "Rq8B58osDLvX"
      },
      "source": [
        "def get_tokenizer(dataset, glove_model = None):\n",
        "\n",
        "  \"\"\"\n",
        "  create the word and char tokenizers and feed them \n",
        "  on the given dataset and the glove vocabulary\n",
        "  \"\"\"\n",
        "\n",
        "  tokenizer = tf.keras.preprocessing.text.Tokenizer(oov_token = 'UNK', filters = '')\n",
        "\n",
        "  # we will only keep the 200 - 1 most frequent characters (otherwise oom issue)\n",
        "  # others tokens are replaced by UNK token \n",
        "  # we keep 199 most frequent tokens and indice 1 is UNK token (so we keep 198 tokens)\n",
        "  char_tokenizer = tf.keras.preprocessing.text.Tokenizer(char_level = True, filters = '', oov_token = 'UNK', num_words = 200)\n",
        "\n",
        "  if glove_model == None:\n",
        "    glove_model = download_glove_model(EMBEDDING_SIZE)\n",
        "\n",
        "  tokenized_questions = dataset['question'].apply(word_tokenize).to_list()\n",
        "\n",
        "  contexts = pd.Series(dataset['context'].unique())\n",
        "  tokenized_contexts = contexts.apply(word_tokenize).to_list()\n",
        "\n",
        "  sequences = glove_model.index2entity + tokenized_questions + tokenized_contexts\n",
        "\n",
        "  del glove_model # we  don't need anymore the glove model\n",
        "\n",
        "  tokenizer.fit_on_texts(sequences)\n",
        "  char_tokenizer.fit_on_texts(dataset['question'].to_list() + contexts.to_list())\n",
        "\n",
        "  return tokenizer, char_tokenizer\n",
        "\n",
        "\n",
        "def update_tokenizer(dataset, tokenizer, char_tokenizer):\n",
        "\n",
        "  \"\"\"\n",
        "  update the existing word/char vocabulary on a new dataset\n",
        "  \"\"\"\n",
        "\n",
        "  tokenized_questions = dataset['question'].apply(word_tokenize).to_list()\n",
        "\n",
        "  contexts = pd.Series(dataset['context'].unique())\n",
        "  tokenized_contexts = contexts.apply(word_tokenize).to_list()\n",
        "\n",
        "  sequences = tokenized_questions + tokenized_contexts\n",
        "  tokenizer.fit_on_texts(sequences)\n",
        "\n",
        "  char_tokenizer.fit_on_texts(dataset['question'].to_list() + contexts.to_list())\n",
        "\n",
        "def get_start_end(row):\n",
        "\n",
        "  \"\"\"\n",
        "  get the start and end span for each sample,\n",
        "  if the span cannot be found return -1\n",
        "  \"\"\"\n",
        "\n",
        "  context = row['context']\n",
        "  answer = row['text']\n",
        "  tok_answer = word_tokenize(answer)\n",
        "\n",
        "  _start = context.find(answer)\n",
        "\n",
        "  if _start == -1:\n",
        "    # the answer is not in the context\n",
        "    # maybe due to a typo\n",
        "    row['start'] = -1\n",
        "    row['end'] = -1\n",
        "    return row\n",
        "\n",
        "  lc = context[:_start]\n",
        "  lc = word_tokenize(lc)\n",
        "\n",
        "  start = len(lc)\n",
        "  end = start + len(tok_answer)\n",
        "\n",
        "  row['start'] = start\n",
        "  row['end'] = end\n",
        "\n",
        "  return row\n",
        "\n",
        "def tokenize(dataset, tokenizer, char_tokenizer):\n",
        "\n",
        "  \"\"\"\n",
        "  tokenize the given dataset\n",
        "  \"\"\"\n",
        "\n",
        "  _dataset = dataset.copy()\n",
        "\n",
        "  tokenized_questions = _dataset['question'].apply(word_tokenize).to_list()\n",
        "  tokenized_contexts = _dataset['context'].apply(word_tokenize).to_list()\n",
        "\n",
        "  t_q = tokenizer.texts_to_sequences(tokenized_questions)\n",
        "  t_c = tokenizer.texts_to_sequences(tokenized_contexts)\n",
        "\n",
        "  c_q = []\n",
        "  c_c = []\n",
        "\n",
        "  for question, context in zip(tokenized_questions, tokenized_contexts):\n",
        "    _q = char_tokenizer.texts_to_sequences(question)\n",
        "    _c = char_tokenizer.texts_to_sequences(context)\n",
        "    c_q.append(_q)\n",
        "    c_c.append(_c)\n",
        "\n",
        "  _dataset['tokenized_question'] = t_q\n",
        "  _dataset['tokenized_context'] = t_c\n",
        "\n",
        "  _dataset['char_tokenized_question'] = c_q\n",
        "  _dataset['char_tokenized_context'] = c_c\n",
        "\n",
        "  return _dataset\n",
        "\n",
        "def split(dataset, test_size = 0.2, random_state = 42):\n",
        "\n",
        "  \"\"\"\n",
        "  split the dataset in two part: the training and the validation\n",
        "  \"\"\"\n",
        "\n",
        "  # random_state for deterministic state\n",
        "  tr, vl = train_test_split(dataset, test_size = test_size, random_state = random_state)\n",
        "  tr.reset_index(drop = True, inplace = True)\n",
        "  vl.reset_index(drop = True, inplace = True)\n",
        "\n",
        "  return tr,vl\n",
        "\n",
        "def df_to_json(df, path, with_answer = True):\n",
        "\n",
        "  \"\"\"\n",
        "  parse the given dataframe into the SQUAD json format and\n",
        "  save it\n",
        "  \"\"\"\n",
        "  \n",
        "  data = []\n",
        "\n",
        "  for title, articles in df.groupby('title'):\n",
        "    chapter = {'title': title}\n",
        "    paragraphs = []\n",
        "    for context, contents in articles.groupby('context'):\n",
        "      paragraph = {'context': context}\n",
        "      qas = []\n",
        "      for i, content in contents.iterrows():\n",
        "        if with_answer:\n",
        "          qa = {'answers': [{'answer_start': content['answer_start'], 'text': content['text']}], 'question': content['question'], 'id': content['id']}\n",
        "        else:\n",
        "          qa = {'question': content['question'], 'id': content['id']}\n",
        "        qas.append(qa)\n",
        "      paragraph.update({'qas': qas})\n",
        "      paragraphs.append(paragraph)\n",
        "    chapter.update({'paragraphs': paragraphs})\n",
        "    data.append(chapter)\n",
        "  raw_data = {'data': data}\n",
        "\n",
        "  with open(path, 'w') as handle:\n",
        "    json.dump(raw_data, handle)\n",
        "\n",
        "  print(f'dataset saved in {path}')"
      ],
      "execution_count": 11,
      "outputs": []
    },
    {
      "cell_type": "code",
      "metadata": {
        "id": "M8pXuOXlpLsx"
      },
      "source": [
        "tr_df, vl_df = split(squad_dataset)"
      ],
      "execution_count": 12,
      "outputs": []
    },
    {
      "cell_type": "code",
      "metadata": {
        "colab": {
          "base_uri": "https://localhost:8080/"
        },
        "id": "BGk_DpS3RS32",
        "outputId": "46a00af2-ac28-427f-912a-46f65d120f2d"
      },
      "source": [
        "tr_df.shape[0],vl_df.shape[0]"
      ],
      "execution_count": 13,
      "outputs": [
        {
          "output_type": "execute_result",
          "data": {
            "text/plain": [
              "(70079, 17520)"
            ]
          },
          "metadata": {
            "tags": []
          },
          "execution_count": 13
        }
      ]
    },
    {
      "cell_type": "markdown",
      "metadata": {
        "id": "v0VbHyp4YSUx"
      },
      "source": [
        "Our vocabulary is based on the Glove vocabulary, and we add terms from the training set"
      ]
    },
    {
      "cell_type": "code",
      "metadata": {
        "colab": {
          "base_uri": "https://localhost:8080/"
        },
        "id": "8hY8Z7HQFKjo",
        "outputId": "42386c59-8bcd-450a-d3ae-2ec706aa2d54"
      },
      "source": [
        "tokenizer, char_tokenizer = get_tokenizer(tr_df)"
      ],
      "execution_count": 14,
      "outputs": [
        {
          "output_type": "stream",
          "text": [
            "[INFO] downloading glove 300\n",
            "[==================================================] 100.0% 376.1/376.1MB downloaded\n",
            "[INFO] done !\n"
          ],
          "name": "stdout"
        }
      ]
    },
    {
      "cell_type": "code",
      "metadata": {
        "colab": {
          "base_uri": "https://localhost:8080/"
        },
        "id": "ILsFqw2bKf5L",
        "outputId": "242a6ea1-f183-42d7-fdfc-9e34adf75717"
      },
      "source": [
        "print(len(tokenizer.word_index))\n",
        "len(char_tokenizer.word_index)"
      ],
      "execution_count": 16,
      "outputs": [
        {
          "output_type": "stream",
          "text": [
            "429064\n"
          ],
          "name": "stdout"
        },
        {
          "output_type": "execute_result",
          "data": {
            "text/plain": [
              "1263"
            ]
          },
          "metadata": {
            "tags": []
          },
          "execution_count": 16
        }
      ]
    },
    {
      "cell_type": "markdown",
      "metadata": {
        "id": "wWoZPgxdYbkz"
      },
      "source": [
        "We then update our vocabulary with terms from the validation set"
      ]
    },
    {
      "cell_type": "code",
      "metadata": {
        "id": "Xzv_ZS3Zqifn"
      },
      "source": [
        "update_tokenizer(vl_df, tokenizer, char_tokenizer)"
      ],
      "execution_count": 17,
      "outputs": []
    },
    {
      "cell_type": "code",
      "metadata": {
        "colab": {
          "base_uri": "https://localhost:8080/"
        },
        "id": "gLwNWJsorIae",
        "outputId": "682fa1fe-95d7-4ed1-edca-3e2aa03ec461"
      },
      "source": [
        "print(len(tokenizer.word_index))\n",
        "len(char_tokenizer.word_index)"
      ],
      "execution_count": 18,
      "outputs": [
        {
          "output_type": "stream",
          "text": [
            "429758\n"
          ],
          "name": "stdout"
        },
        {
          "output_type": "execute_result",
          "data": {
            "text/plain": [
              "1265"
            ]
          },
          "metadata": {
            "tags": []
          },
          "execution_count": 18
        }
      ]
    },
    {
      "cell_type": "code",
      "metadata": {
        "id": "fM8oYX_SHkni"
      },
      "source": [
        "# take a while\n",
        "tr_df = tr_df.apply(get_start_end, axis = 1)\n",
        "vl_df = vl_df.apply(get_start_end, axis = 1)"
      ],
      "execution_count": 19,
      "outputs": []
    },
    {
      "cell_type": "markdown",
      "metadata": {
        "id": "ox1J7Z8YhVcv"
      },
      "source": [
        "we get rid of samples where the answer doesn't match the context (maybe there is a typo in the answer or the context).  \n",
        "To avoid to discard many samples, we could lemmatize / stem the text.   \n",
        "Obviously, lemmatization is a better choice for our task, but if we want a really accurate lemmatization processing, we need to do POS tagging."
      ]
    },
    {
      "cell_type": "code",
      "metadata": {
        "colab": {
          "base_uri": "https://localhost:8080/"
        },
        "id": "8eTsENy6jU-t",
        "outputId": "b920bb61-fb69-4e92-ad5f-463313101870"
      },
      "source": [
        "tr_df[tr_df['start'] == -1].shape[0], vl_df[vl_df['start'] == -1].shape[0]"
      ],
      "execution_count": 20,
      "outputs": [
        {
          "output_type": "execute_result",
          "data": {
            "text/plain": [
              "(69, 15)"
            ]
          },
          "metadata": {
            "tags": []
          },
          "execution_count": 20
        }
      ]
    },
    {
      "cell_type": "code",
      "metadata": {
        "colab": {
          "base_uri": "https://localhost:8080/",
          "height": 788
        },
        "id": "RfAls7CF683U",
        "outputId": "f1c3a815-8bb3-46d5-9f34-8af4d485dec8"
      },
      "source": [
        "tr_df[tr_df['start'] == -1]"
      ],
      "execution_count": 21,
      "outputs": [
        {
          "output_type": "execute_result",
          "data": {
            "text/html": [
              "<div>\n",
              "<style scoped>\n",
              "    .dataframe tbody tr th:only-of-type {\n",
              "        vertical-align: middle;\n",
              "    }\n",
              "\n",
              "    .dataframe tbody tr th {\n",
              "        vertical-align: top;\n",
              "    }\n",
              "\n",
              "    .dataframe thead th {\n",
              "        text-align: right;\n",
              "    }\n",
              "</style>\n",
              "<table border=\"1\" class=\"dataframe\">\n",
              "  <thead>\n",
              "    <tr style=\"text-align: right;\">\n",
              "      <th></th>\n",
              "      <th>answer_start</th>\n",
              "      <th>text</th>\n",
              "      <th>question</th>\n",
              "      <th>id</th>\n",
              "      <th>context</th>\n",
              "      <th>title</th>\n",
              "      <th>c_id</th>\n",
              "      <th>start</th>\n",
              "      <th>end</th>\n",
              "    </tr>\n",
              "  </thead>\n",
              "  <tbody>\n",
              "    <tr>\n",
              "      <th>87</th>\n",
              "      <td>92</td>\n",
              "      <td>march 14, 2013</td>\n",
              "      <td>on what date was the 2013 human development re...</td>\n",
              "      <td>56de31984396321400ee2672</td>\n",
              "      <td>some countries were not included for various r...</td>\n",
              "      <td>Human_Development_Index</td>\n",
              "      <td>2185</td>\n",
              "      <td>-1</td>\n",
              "      <td>-1</td>\n",
              "    </tr>\n",
              "    <tr>\n",
              "      <th>3133</th>\n",
              "      <td>0</td>\n",
              "      <td>catalan sociolinguistics</td>\n",
              "      <td>what field studies the placement of catalan in...</td>\n",
              "      <td>56e17f5de3433e1400422f8c</td>\n",
              "      <td>in central catalan, unstressed vowels reduce t...</td>\n",
              "      <td>Catalan_language</td>\n",
              "      <td>3470</td>\n",
              "      <td>-1</td>\n",
              "      <td>-1</td>\n",
              "    </tr>\n",
              "    <tr>\n",
              "      <th>3983</th>\n",
              "      <td>168</td>\n",
              "      <td>the valencian academy of language</td>\n",
              "      <td>what is the official regulating body of  valen...</td>\n",
              "      <td>56e1b97fcd28a01900c67ad8</td>\n",
              "      <td>valencian is classified as a western dialect, ...</td>\n",
              "      <td>Catalan_language</td>\n",
              "      <td>3488</td>\n",
              "      <td>-1</td>\n",
              "      <td>-1</td>\n",
              "    </tr>\n",
              "    <tr>\n",
              "      <th>6198</th>\n",
              "      <td>103</td>\n",
              "      <td>catalan</td>\n",
              "      <td>what language is the regulator meant to standa...</td>\n",
              "      <td>56e1b4decd28a01900c67a91</td>\n",
              "      <td>in alghero, the iec has adapted its standard t...</td>\n",
              "      <td>Catalan_language</td>\n",
              "      <td>3486</td>\n",
              "      <td>-1</td>\n",
              "      <td>-1</td>\n",
              "    </tr>\n",
              "    <tr>\n",
              "      <th>6994</th>\n",
              "      <td>94</td>\n",
              "      <td>western catalonia</td>\n",
              "      <td>where are the provinces of lleida and tarragona?</td>\n",
              "      <td>56e1b738cd28a01900c67aae</td>\n",
              "      <td>in 2011, the aragonese government passed a dec...</td>\n",
              "      <td>Catalan_language</td>\n",
              "      <td>3487</td>\n",
              "      <td>-1</td>\n",
              "      <td>-1</td>\n",
              "    </tr>\n",
              "    <tr>\n",
              "      <th>...</th>\n",
              "      <td>...</td>\n",
              "      <td>...</td>\n",
              "      <td>...</td>\n",
              "      <td>...</td>\n",
              "      <td>...</td>\n",
              "      <td>...</td>\n",
              "      <td>...</td>\n",
              "      <td>...</td>\n",
              "      <td>...</td>\n",
              "    </tr>\n",
              "    <tr>\n",
              "      <th>66889</th>\n",
              "      <td>113</td>\n",
              "      <td>some individual caribbean islands in the west ...</td>\n",
              "      <td>what did great britain gain in the west indies...</td>\n",
              "      <td>572e8003c246551400ce425f</td>\n",
              "      <td>many middle and small powers in europe, unlike...</td>\n",
              "      <td>Seven_Years%27_War</td>\n",
              "      <td>15282</td>\n",
              "      <td>-1</td>\n",
              "      <td>-1</td>\n",
              "    </tr>\n",
              "    <tr>\n",
              "      <th>66972</th>\n",
              "      <td>446</td>\n",
              "      <td>reminiscent of the more famous and compact str...</td>\n",
              "      <td>what is the precedent for the \"second hundred ...</td>\n",
              "      <td>572e81f2cb0c0d14000f1206</td>\n",
              "      <td>the war was successful for great britain, whic...</td>\n",
              "      <td>Seven_Years%27_War</td>\n",
              "      <td>15283</td>\n",
              "      <td>-1</td>\n",
              "      <td>-1</td>\n",
              "    </tr>\n",
              "    <tr>\n",
              "      <th>67376</th>\n",
              "      <td>434</td>\n",
              "      <td>sicily, and savoy, although sided with franco-...</td>\n",
              "      <td>who would sicily and savoy normally align with?</td>\n",
              "      <td>572e8578c246551400ce42bd</td>\n",
              "      <td>realizing that war was imminent, prussia preem...</td>\n",
              "      <td>Seven_Years%27_War</td>\n",
              "      <td>15281</td>\n",
              "      <td>-1</td>\n",
              "      <td>-1</td>\n",
              "    </tr>\n",
              "    <tr>\n",
              "      <th>69867</th>\n",
              "      <td>56</td>\n",
              "      <td>uniformity</td>\n",
              "      <td>what do the dialects of catalan feature?</td>\n",
              "      <td>56e180f5e3433e1400422f96</td>\n",
              "      <td>catalan sociolinguistics studies the situation...</td>\n",
              "      <td>Catalan_language</td>\n",
              "      <td>3471</td>\n",
              "      <td>-1</td>\n",
              "      <td>-1</td>\n",
              "    </tr>\n",
              "    <tr>\n",
              "      <th>69923</th>\n",
              "      <td>331</td>\n",
              "      <td>other languages in contact</td>\n",
              "      <td>what outside affects does this study include?</td>\n",
              "      <td>56e17f5de3433e1400422f90</td>\n",
              "      <td>in central catalan, unstressed vowels reduce t...</td>\n",
              "      <td>Catalan_language</td>\n",
              "      <td>3470</td>\n",
              "      <td>-1</td>\n",
              "      <td>-1</td>\n",
              "    </tr>\n",
              "  </tbody>\n",
              "</table>\n",
              "<p>69 rows × 9 columns</p>\n",
              "</div>"
            ],
            "text/plain": [
              "       answer_start  ... end\n",
              "87               92  ...  -1\n",
              "3133              0  ...  -1\n",
              "3983            168  ...  -1\n",
              "6198            103  ...  -1\n",
              "6994             94  ...  -1\n",
              "...             ...  ...  ..\n",
              "66889           113  ...  -1\n",
              "66972           446  ...  -1\n",
              "67376           434  ...  -1\n",
              "69867            56  ...  -1\n",
              "69923           331  ...  -1\n",
              "\n",
              "[69 rows x 9 columns]"
            ]
          },
          "metadata": {
            "tags": []
          },
          "execution_count": 21
        }
      ]
    },
    {
      "cell_type": "code",
      "metadata": {
        "colab": {
          "base_uri": "https://localhost:8080/",
          "height": 962
        },
        "id": "o7uz1Odj7fAS",
        "outputId": "2fd80c9d-1475-40aa-830f-5c4193ce6d27"
      },
      "source": [
        "vl_df[vl_df['start'] == -1]"
      ],
      "execution_count": 22,
      "outputs": [
        {
          "output_type": "execute_result",
          "data": {
            "text/html": [
              "<div>\n",
              "<style scoped>\n",
              "    .dataframe tbody tr th:only-of-type {\n",
              "        vertical-align: middle;\n",
              "    }\n",
              "\n",
              "    .dataframe tbody tr th {\n",
              "        vertical-align: top;\n",
              "    }\n",
              "\n",
              "    .dataframe thead th {\n",
              "        text-align: right;\n",
              "    }\n",
              "</style>\n",
              "<table border=\"1\" class=\"dataframe\">\n",
              "  <thead>\n",
              "    <tr style=\"text-align: right;\">\n",
              "      <th></th>\n",
              "      <th>answer_start</th>\n",
              "      <th>text</th>\n",
              "      <th>question</th>\n",
              "      <th>id</th>\n",
              "      <th>context</th>\n",
              "      <th>title</th>\n",
              "      <th>c_id</th>\n",
              "      <th>start</th>\n",
              "      <th>end</th>\n",
              "    </tr>\n",
              "  </thead>\n",
              "  <tbody>\n",
              "    <tr>\n",
              "      <th>171</th>\n",
              "      <td>166</td>\n",
              "      <td>barcelona province</td>\n",
              "      <td>in what densely populated area is it spoken?</td>\n",
              "      <td>56e18a90e3433e1400422fac</td>\n",
              "      <td>western catalan comprises the two dialects of ...</td>\n",
              "      <td>Catalan_language</td>\n",
              "      <td>3474</td>\n",
              "      <td>-1</td>\n",
              "      <td>-1</td>\n",
              "    </tr>\n",
              "    <tr>\n",
              "      <th>1536</th>\n",
              "      <td>3</td>\n",
              "      <td>the balearic islands</td>\n",
              "      <td>where is iec's standard used?</td>\n",
              "      <td>56e1a3cbe3433e1400423066</td>\n",
              "      <td>standard catalan, virtually accepted by all sp...</td>\n",
              "      <td>Catalan_language</td>\n",
              "      <td>3484</td>\n",
              "      <td>-1</td>\n",
              "      <td>-1</td>\n",
              "    </tr>\n",
              "    <tr>\n",
              "      <th>3007</th>\n",
              "      <td>162</td>\n",
              "      <td>merged</td>\n",
              "      <td>what have a and e done in eastern dialects?</td>\n",
              "      <td>56e18710cd28a01900c679b9</td>\n",
              "      <td>the dialects of the catalan language feature a...</td>\n",
              "      <td>Catalan_language</td>\n",
              "      <td>3472</td>\n",
              "      <td>-1</td>\n",
              "      <td>-1</td>\n",
              "    </tr>\n",
              "    <tr>\n",
              "      <th>4925</th>\n",
              "      <td>114</td>\n",
              "      <td>la franja</td>\n",
              "      <td>where is the catalan speaking part of aragon?</td>\n",
              "      <td>56e1b4decd28a01900c67a8e</td>\n",
              "      <td>in alghero, the iec has adapted its standard t...</td>\n",
              "      <td>Catalan_language</td>\n",
              "      <td>3486</td>\n",
              "      <td>-1</td>\n",
              "      <td>-1</td>\n",
              "    </tr>\n",
              "    <tr>\n",
              "      <th>5782</th>\n",
              "      <td>69</td>\n",
              "      <td>seven</td>\n",
              "      <td>how many stressed phonemes are there in catalan?</td>\n",
              "      <td>56e18bfbe3433e1400422fb5</td>\n",
              "      <td>central catalan is considered the standard pro...</td>\n",
              "      <td>Catalan_language</td>\n",
              "      <td>3468</td>\n",
              "      <td>-1</td>\n",
              "      <td>-1</td>\n",
              "    </tr>\n",
              "    <tr>\n",
              "      <th>5897</th>\n",
              "      <td>118</td>\n",
              "      <td>treatment of unstressed a and e</td>\n",
              "      <td>what is the major difference between the two b...</td>\n",
              "      <td>56e18710cd28a01900c679b7</td>\n",
              "      <td>the dialects of the catalan language feature a...</td>\n",
              "      <td>Catalan_language</td>\n",
              "      <td>3472</td>\n",
              "      <td>-1</td>\n",
              "      <td>-1</td>\n",
              "    </tr>\n",
              "    <tr>\n",
              "      <th>5937</th>\n",
              "      <td>50</td>\n",
              "      <td>vulgar latin</td>\n",
              "      <td>what is the vowel system of catalan?</td>\n",
              "      <td>56e18bfbe3433e1400422fb4</td>\n",
              "      <td>western catalan comprises the two dialects of ...</td>\n",
              "      <td>Catalan_language</td>\n",
              "      <td>3468</td>\n",
              "      <td>-1</td>\n",
              "      <td>-1</td>\n",
              "    </tr>\n",
              "    <tr>\n",
              "      <th>6561</th>\n",
              "      <td>3</td>\n",
              "      <td>alghero</td>\n",
              "      <td>where has the iec adapted its standard to the ...</td>\n",
              "      <td>56e1b264e3433e14004230a6</td>\n",
              "      <td>the most notable difference between both stand...</td>\n",
              "      <td>Catalan_language</td>\n",
              "      <td>3485</td>\n",
              "      <td>-1</td>\n",
              "      <td>-1</td>\n",
              "    </tr>\n",
              "    <tr>\n",
              "      <th>7378</th>\n",
              "      <td>246</td>\n",
              "      <td>to later conflicts like the napoleonic wars</td>\n",
              "      <td>what was a later conflict that some considered...</td>\n",
              "      <td>572e81f2cb0c0d14000f1207</td>\n",
              "      <td>the war was successful for great britain, whic...</td>\n",
              "      <td>Seven_Years%27_War</td>\n",
              "      <td>15283</td>\n",
              "      <td>-1</td>\n",
              "      <td>-1</td>\n",
              "    </tr>\n",
              "    <tr>\n",
              "      <th>11252</th>\n",
              "      <td>176</td>\n",
              "      <td>section pronunciation</td>\n",
              "      <td>where do you find dialectic vowel reductions?</td>\n",
              "      <td>56e17b08cd28a01900c679af</td>\n",
              "      <td>catalan has inherited the typical vowel system...</td>\n",
              "      <td>Catalan_language</td>\n",
              "      <td>3469</td>\n",
              "      <td>-1</td>\n",
              "      <td>-1</td>\n",
              "    </tr>\n",
              "    <tr>\n",
              "      <th>11511</th>\n",
              "      <td>72</td>\n",
              "      <td>the average level</td>\n",
              "      <td>does the ihdi measure the \"average\" or the \"po...</td>\n",
              "      <td>56de31f34396321400ee2680</td>\n",
              "      <td>the 2013 human development report by the unite...</td>\n",
              "      <td>Human_Development_Index</td>\n",
              "      <td>2182</td>\n",
              "      <td>-1</td>\n",
              "      <td>-1</td>\n",
              "    </tr>\n",
              "    <tr>\n",
              "      <th>12438</th>\n",
              "      <td>110</td>\n",
              "      <td>four</td>\n",
              "      <td>how many dialects are in the eastern group?</td>\n",
              "      <td>56e188e4cd28a01900c679c0</td>\n",
              "      <td>the dialects of the catalan language feature a...</td>\n",
              "      <td>Catalan_language</td>\n",
              "      <td>3473</td>\n",
              "      <td>-1</td>\n",
              "      <td>-1</td>\n",
              "    </tr>\n",
              "    <tr>\n",
              "      <th>16218</th>\n",
              "      <td>96</td>\n",
              "      <td>other romance languages</td>\n",
              "      <td>in comparison to what are the dialects uniform?</td>\n",
              "      <td>56e180f5e3433e1400422f97</td>\n",
              "      <td>catalan sociolinguistics studies the situation...</td>\n",
              "      <td>Catalan_language</td>\n",
              "      <td>3471</td>\n",
              "      <td>-1</td>\n",
              "      <td>-1</td>\n",
              "    </tr>\n",
              "    <tr>\n",
              "      <th>16474</th>\n",
              "      <td>190</td>\n",
              "      <td>catalan and valencian</td>\n",
              "      <td>what forms are mutually intelligible?</td>\n",
              "      <td>56e1b738cd28a01900c67aaf</td>\n",
              "      <td>in 2011, the aragonese government passed a dec...</td>\n",
              "      <td>Catalan_language</td>\n",
              "      <td>3487</td>\n",
              "      <td>-1</td>\n",
              "      <td>-1</td>\n",
              "    </tr>\n",
              "    <tr>\n",
              "      <th>17282</th>\n",
              "      <td>131</td>\n",
              "      <td>western romance</td>\n",
              "      <td>where is this system common?</td>\n",
              "      <td>56e18bfbe3433e1400422fb6</td>\n",
              "      <td>central catalan is considered the standard pro...</td>\n",
              "      <td>Catalan_language</td>\n",
              "      <td>3468</td>\n",
              "      <td>-1</td>\n",
              "      <td>-1</td>\n",
              "    </tr>\n",
              "  </tbody>\n",
              "</table>\n",
              "</div>"
            ],
            "text/plain": [
              "       answer_start                                         text  ... start end\n",
              "171             166                           barcelona province  ...    -1  -1\n",
              "1536              3                         the balearic islands  ...    -1  -1\n",
              "3007            162                                       merged  ...    -1  -1\n",
              "4925            114                                    la franja  ...    -1  -1\n",
              "5782             69                                        seven  ...    -1  -1\n",
              "5897            118              treatment of unstressed a and e  ...    -1  -1\n",
              "5937             50                                 vulgar latin  ...    -1  -1\n",
              "6561              3                                      alghero  ...    -1  -1\n",
              "7378            246  to later conflicts like the napoleonic wars  ...    -1  -1\n",
              "11252           176                        section pronunciation  ...    -1  -1\n",
              "11511            72                            the average level  ...    -1  -1\n",
              "12438           110                                         four  ...    -1  -1\n",
              "16218            96                      other romance languages  ...    -1  -1\n",
              "16474           190                        catalan and valencian  ...    -1  -1\n",
              "17282           131                              western romance  ...    -1  -1\n",
              "\n",
              "[15 rows x 9 columns]"
            ]
          },
          "metadata": {
            "tags": []
          },
          "execution_count": 22
        }
      ]
    },
    {
      "cell_type": "code",
      "metadata": {
        "id": "pZ3CXWdL8CNk"
      },
      "source": [
        "# we get rid of samples where the answer doesn't match the context\n",
        "tr_df = tr_df[tr_df['start'] != -1]\n",
        "vl_df = vl_df[vl_df['start'] != -1]"
      ],
      "execution_count": 23,
      "outputs": []
    },
    {
      "cell_type": "code",
      "metadata": {
        "id": "M_KJeyPxVZG6"
      },
      "source": [
        "tr_df = tokenize(tr_df, tokenizer, char_tokenizer)\n",
        "vl_df = tokenize(vl_df, tokenizer, char_tokenizer)"
      ],
      "execution_count": 24,
      "outputs": []
    },
    {
      "cell_type": "code",
      "metadata": {
        "colab": {
          "base_uri": "https://localhost:8080/",
          "height": 518
        },
        "id": "VJd7p05zjg0e",
        "outputId": "e32c8364-8886-42da-b8ab-f670f568e7f9"
      },
      "source": [
        "tr_df.head()"
      ],
      "execution_count": 25,
      "outputs": [
        {
          "output_type": "execute_result",
          "data": {
            "text/html": [
              "<div>\n",
              "<style scoped>\n",
              "    .dataframe tbody tr th:only-of-type {\n",
              "        vertical-align: middle;\n",
              "    }\n",
              "\n",
              "    .dataframe tbody tr th {\n",
              "        vertical-align: top;\n",
              "    }\n",
              "\n",
              "    .dataframe thead th {\n",
              "        text-align: right;\n",
              "    }\n",
              "</style>\n",
              "<table border=\"1\" class=\"dataframe\">\n",
              "  <thead>\n",
              "    <tr style=\"text-align: right;\">\n",
              "      <th></th>\n",
              "      <th>answer_start</th>\n",
              "      <th>text</th>\n",
              "      <th>question</th>\n",
              "      <th>id</th>\n",
              "      <th>context</th>\n",
              "      <th>title</th>\n",
              "      <th>c_id</th>\n",
              "      <th>start</th>\n",
              "      <th>end</th>\n",
              "      <th>tokenized_question</th>\n",
              "      <th>tokenized_context</th>\n",
              "      <th>char_tokenized_question</th>\n",
              "      <th>char_tokenized_context</th>\n",
              "    </tr>\n",
              "  </thead>\n",
              "  <tbody>\n",
              "    <tr>\n",
              "      <th>0</th>\n",
              "      <td>154</td>\n",
              "      <td>phillies</td>\n",
              "      <td>what team had dallas green managed in 1980?</td>\n",
              "      <td>572667e6708984140094c4f9</td>\n",
              "      <td>after over a dozen more subpar seasons, in 198...</td>\n",
              "      <td>Chicago_Cubs</td>\n",
              "      <td>8880</td>\n",
              "      <td>29</td>\n",
              "      <td>30</td>\n",
              "      <td>[11, 309, 49, 11808, 646, 2132, 6, 2627, 9]</td>\n",
              "      <td>[61, 83, 10, 6737, 62, 70020, 1740, 3, 6, 3372...</td>\n",
              "      <td>[[20, 11, 5, 4], [4, 3, 5, 16], [11, 5, 13], [...</td>\n",
              "      <td>[[5, 17, 4, 3, 10], [8, 24, 3, 10], [5], [13, ...</td>\n",
              "    </tr>\n",
              "    <tr>\n",
              "      <th>1</th>\n",
              "      <td>156</td>\n",
              "      <td>rudy giuliani</td>\n",
              "      <td>which candidate withdrew from the presidential...</td>\n",
              "      <td>56dec2483277331400b4d712</td>\n",
              "      <td>schwarzenegger's endorsement in the republican...</td>\n",
              "      <td>Arnold_Schwarzenegger</td>\n",
              "      <td>2311</td>\n",
              "      <td>23</td>\n",
              "      <td>25</td>\n",
              "      <td>[27, 2789, 4161, 23, 2, 1534, 698, 6, 417, 4, ...</td>\n",
              "      <td>[1084, 19, 9106, 6, 2, 1467, 477, 4, 2, 420, 1...</td>\n",
              "      <td>[[20, 11, 6, 14, 11], [14, 5, 7, 13, 6, 13, 5,...</td>\n",
              "      <td>[[9, 14, 11, 20, 5, 10, 39, 3, 7, 3, 19, 19, 3...</td>\n",
              "    </tr>\n",
              "    <tr>\n",
              "      <th>2</th>\n",
              "      <td>224</td>\n",
              "      <td>wild ones outside the area</td>\n",
              "      <td>captive animals can distinguish co-inhabitats ...</td>\n",
              "      <td>5726e5995951b619008f81bb</td>\n",
              "      <td>it has been observed that well-fed predator an...</td>\n",
              "      <td>Predation</td>\n",
              "      <td>9822</td>\n",
              "      <td>38</td>\n",
              "      <td>43</td>\n",
              "      <td>[11888, 727, 65, 3733, 419169, 23, 11, 48, 136...</td>\n",
              "      <td>[30, 40, 59, 2316, 20, 63225, 4421, 727, 6, 10...</td>\n",
              "      <td>[[14, 5, 18, 4, 6, 24, 3], [5, 7, 6, 16, 5, 12...</td>\n",
              "      <td>[[6, 4], [11, 5, 9], [22, 3, 3, 7], [8, 22, 9,...</td>\n",
              "    </tr>\n",
              "    <tr>\n",
              "      <th>3</th>\n",
              "      <td>919</td>\n",
              "      <td>the battle of trafalgar</td>\n",
              "      <td>the results of which battle allowed the britis...</td>\n",
              "      <td>5726486f708984140094c157</td>\n",
              "      <td>after returning from egypt, napoleon engineere...</td>\n",
              "      <td>Napoleon</td>\n",
              "      <td>8418</td>\n",
              "      <td>158</td>\n",
              "      <td>162</td>\n",
              "      <td>[2, 1324, 4, 27, 326, 495, 2, 132, 8, 6280, 15...</td>\n",
              "      <td>[61, 3986, 23, 598, 3, 545, 9789, 10, 2313, 6,...</td>\n",
              "      <td>[[4, 11, 3], [10, 3, 9, 15, 12, 4, 9], [8, 17]...</td>\n",
              "      <td>[[5, 17, 4, 3, 10], [10, 3, 4, 15, 10, 7, 6, 7...</td>\n",
              "    </tr>\n",
              "    <tr>\n",
              "      <th>4</th>\n",
              "      <td>382</td>\n",
              "      <td>hanged</td>\n",
              "      <td>how was vesey executed in 1822?</td>\n",
              "      <td>5730299db2c2fd14005689a7</td>\n",
              "      <td>by 1820, charleston's population had grown to ...</td>\n",
              "      <td>Charleston,_South_Carolina</td>\n",
              "      <td>15719</td>\n",
              "      <td>74</td>\n",
              "      <td>75</td>\n",
              "      <td>[44, 13, 25121, 2181, 6, 10202, 9]</td>\n",
              "      <td>[18, 9015, 3, 1909, 19, 104, 49, 2555, 8, 2106...</td>\n",
              "      <td>[[11, 8, 20], [20, 5, 9], [24, 3, 9, 3, 21], [...</td>\n",
              "      <td>[[22, 21], [28, 40, 31, 29], [23], [14, 11, 5,...</td>\n",
              "    </tr>\n",
              "  </tbody>\n",
              "</table>\n",
              "</div>"
            ],
            "text/plain": [
              "   answer_start  ...                             char_tokenized_context\n",
              "0           154  ...  [[5, 17, 4, 3, 10], [8, 24, 3, 10], [5], [13, ...\n",
              "1           156  ...  [[9, 14, 11, 20, 5, 10, 39, 3, 7, 3, 19, 19, 3...\n",
              "2           224  ...  [[6, 4], [11, 5, 9], [22, 3, 3, 7], [8, 22, 9,...\n",
              "3           919  ...  [[5, 17, 4, 3, 10], [10, 3, 4, 15, 10, 7, 6, 7...\n",
              "4           382  ...  [[22, 21], [28, 40, 31, 29], [23], [14, 11, 5,...\n",
              "\n",
              "[5 rows x 13 columns]"
            ]
          },
          "metadata": {
            "tags": []
          },
          "execution_count": 25
        }
      ]
    },
    {
      "cell_type": "markdown",
      "metadata": {
        "id": "HRlxHm3xwnFn"
      },
      "source": [
        "We display some useful stats in order to define the padding size (at the word and character level, for both question and context)"
      ]
    },
    {
      "cell_type": "code",
      "metadata": {
        "colab": {
          "base_uri": "https://localhost:8080/"
        },
        "id": "2kw5Pk4c6I3S",
        "outputId": "1f3bf40b-d4ad-45a4-cd24-8e06b2f84581"
      },
      "source": [
        "print(tr_df['tokenized_question'].str.len().describe())\n",
        "vl_df['tokenized_question'].str.len().describe()"
      ],
      "execution_count": 31,
      "outputs": [
        {
          "output_type": "stream",
          "text": [
            "count    70010.000000\n",
            "mean        11.275532\n",
            "std          3.715821\n",
            "min          1.000000\n",
            "25%          9.000000\n",
            "50%         11.000000\n",
            "75%         13.000000\n",
            "max         60.000000\n",
            "Name: tokenized_question, dtype: float64\n"
          ],
          "name": "stdout"
        },
        {
          "output_type": "execute_result",
          "data": {
            "text/plain": [
              "count    17505.000000\n",
              "mean        11.335504\n",
              "std          3.754207\n",
              "min          1.000000\n",
              "25%          9.000000\n",
              "50%         11.000000\n",
              "75%         13.000000\n",
              "max         38.000000\n",
              "Name: tokenized_question, dtype: float64"
            ]
          },
          "metadata": {
            "tags": []
          },
          "execution_count": 31
        }
      ]
    },
    {
      "cell_type": "code",
      "metadata": {
        "colab": {
          "base_uri": "https://localhost:8080/"
        },
        "id": "Dk5TG_Yy9crW",
        "outputId": "83ffef29-358a-4af0-91c1-44d8409f1f56"
      },
      "source": [
        "print(tr_df['tokenized_question'].str.len().quantile(0.99))\n",
        "vl_df['tokenized_question'].str.len().quantile(0.99)"
      ],
      "execution_count": 32,
      "outputs": [
        {
          "output_type": "stream",
          "text": [
            "22.0\n"
          ],
          "name": "stdout"
        },
        {
          "output_type": "execute_result",
          "data": {
            "text/plain": [
              "23.0"
            ]
          },
          "metadata": {
            "tags": []
          },
          "execution_count": 32
        }
      ]
    },
    {
      "cell_type": "code",
      "metadata": {
        "colab": {
          "base_uri": "https://localhost:8080/"
        },
        "id": "bsKYKsgR6-UK",
        "outputId": "cee3871b-ace1-4e09-a948-bc41a0c558ab"
      },
      "source": [
        "print(tr_df['tokenized_context'].str.len().describe())\n",
        "vl_df['tokenized_context'].str.len().describe()"
      ],
      "execution_count": 33,
      "outputs": [
        {
          "output_type": "stream",
          "text": [
            "count    70010.000000\n",
            "mean       137.824439\n",
            "std         56.941382\n",
            "min         22.000000\n",
            "25%        102.000000\n",
            "50%        127.000000\n",
            "75%        164.000000\n",
            "max        766.000000\n",
            "Name: tokenized_context, dtype: float64\n"
          ],
          "name": "stdout"
        },
        {
          "output_type": "execute_result",
          "data": {
            "text/plain": [
              "count    17505.000000\n",
              "mean       137.211083\n",
              "std         55.912622\n",
              "min         22.000000\n",
              "25%        102.000000\n",
              "50%        126.000000\n",
              "75%        163.000000\n",
              "max        766.000000\n",
              "Name: tokenized_context, dtype: float64"
            ]
          },
          "metadata": {
            "tags": []
          },
          "execution_count": 33
        }
      ]
    },
    {
      "cell_type": "code",
      "metadata": {
        "colab": {
          "base_uri": "https://localhost:8080/"
        },
        "id": "Cyp5MUtj9woq",
        "outputId": "0a1fd7c0-27c2-4289-a3f9-ffed37fea265"
      },
      "source": [
        "print(tr_df['tokenized_context'].str.len().quantile(0.99))\n",
        "vl_df['tokenized_context'].str.len().quantile(0.99)"
      ],
      "execution_count": 29,
      "outputs": [
        {
          "output_type": "stream",
          "text": [
            "324.0\n"
          ],
          "name": "stdout"
        },
        {
          "output_type": "execute_result",
          "data": {
            "text/plain": [
              "324.0"
            ]
          },
          "metadata": {
            "tags": []
          },
          "execution_count": 29
        }
      ]
    },
    {
      "cell_type": "code",
      "metadata": {
        "id": "fE3J6xJZ7Sqe"
      },
      "source": [
        "def len_words(dataset):\n",
        "\n",
        "  \"\"\"\n",
        "  return the word's length\n",
        "  \"\"\"\n",
        "\n",
        "  count_q = []\n",
        "  count_c = []\n",
        "\n",
        "  for idx, row in dataset.iterrows():\n",
        "    for w in row['char_tokenized_question']:\n",
        "      l = len(w)\n",
        "      count_q.append(l)\n",
        "      \n",
        "    for w in row['char_tokenized_context']:\n",
        "      m = len(w)\n",
        "      count_c.append(m)\n",
        "  \n",
        "  return pd.Series(count_q), pd.Series(count_c)\n",
        "\n",
        "t_q,t_c = len_words(tr_df)\n",
        "v_q,v_c = len_words(vl_df)"
      ],
      "execution_count": 34,
      "outputs": []
    },
    {
      "cell_type": "code",
      "metadata": {
        "colab": {
          "base_uri": "https://localhost:8080/"
        },
        "id": "i8R_-bUv9HGQ",
        "outputId": "0adcae25-3ab2-4244-c50b-a9936ce6b6c5"
      },
      "source": [
        "print(t_q.describe())\n",
        "t_c.describe()"
      ],
      "execution_count": 35,
      "outputs": [
        {
          "output_type": "stream",
          "text": [
            "count    789400.000000\n",
            "mean          4.447926\n",
            "std           2.677579\n",
            "min           1.000000\n",
            "25%           2.000000\n",
            "50%           4.000000\n",
            "75%           6.000000\n",
            "max          30.000000\n",
            "dtype: float64\n"
          ],
          "name": "stdout"
        },
        {
          "output_type": "execute_result",
          "data": {
            "text/plain": [
              "count    9.649089e+06\n",
              "mean     4.626070e+00\n",
              "std      2.969605e+00\n",
              "min      1.000000e+00\n",
              "25%      2.000000e+00\n",
              "50%      4.000000e+00\n",
              "75%      7.000000e+00\n",
              "max      3.700000e+01\n",
              "dtype: float64"
            ]
          },
          "metadata": {
            "tags": []
          },
          "execution_count": 35
        }
      ]
    },
    {
      "cell_type": "code",
      "metadata": {
        "colab": {
          "base_uri": "https://localhost:8080/"
        },
        "id": "R64fJS7DxkuN",
        "outputId": "25a2860f-541e-45f5-f4ec-0b7c747935a3"
      },
      "source": [
        "print(v_q.describe())\n",
        "v_c.describe()"
      ],
      "execution_count": 36,
      "outputs": [
        {
          "output_type": "stream",
          "text": [
            "count    198428.000000\n",
            "mean          4.453232\n",
            "std           2.686696\n",
            "min           1.000000\n",
            "25%           2.000000\n",
            "50%           4.000000\n",
            "75%           6.000000\n",
            "max          24.000000\n",
            "dtype: float64\n"
          ],
          "name": "stdout"
        },
        {
          "output_type": "execute_result",
          "data": {
            "text/plain": [
              "count    2.401880e+06\n",
              "mean     4.629710e+00\n",
              "std      2.972670e+00\n",
              "min      1.000000e+00\n",
              "25%      2.000000e+00\n",
              "50%      4.000000e+00\n",
              "75%      7.000000e+00\n",
              "max      3.700000e+01\n",
              "dtype: float64"
            ]
          },
          "metadata": {
            "tags": []
          },
          "execution_count": 36
        }
      ]
    },
    {
      "cell_type": "code",
      "metadata": {
        "colab": {
          "base_uri": "https://localhost:8080/"
        },
        "id": "5wxf3tS7xylx",
        "outputId": "41d59f52-d6a2-4055-da70-17e6f34d8d88"
      },
      "source": [
        "print(t_q.quantile(0.99))\n",
        "t_c.quantile(0.99)"
      ],
      "execution_count": 37,
      "outputs": [
        {
          "output_type": "stream",
          "text": [
            "12.0\n"
          ],
          "name": "stdout"
        },
        {
          "output_type": "execute_result",
          "data": {
            "text/plain": [
              "13.0"
            ]
          },
          "metadata": {
            "tags": []
          },
          "execution_count": 37
        }
      ]
    },
    {
      "cell_type": "code",
      "metadata": {
        "colab": {
          "base_uri": "https://localhost:8080/"
        },
        "id": "x6F-O0qjx4Gu",
        "outputId": "e725ee5e-4531-4de4-c0f1-270f0cfac095"
      },
      "source": [
        "print(v_q.quantile(0.99))\n",
        "v_c.quantile(0.99)"
      ],
      "execution_count": 38,
      "outputs": [
        {
          "output_type": "stream",
          "text": [
            "12.0\n"
          ],
          "name": "stdout"
        },
        {
          "output_type": "execute_result",
          "data": {
            "text/plain": [
              "13.0"
            ]
          },
          "metadata": {
            "tags": []
          },
          "execution_count": 38
        }
      ]
    },
    {
      "cell_type": "markdown",
      "metadata": {
        "id": "LC1K9nYs9ht2"
      },
      "source": [
        "There are obviously some outliers. We are compeled to get rid of some samples because of memory issues.\n",
        "\n",
        "We will get rid of contexts that have more than 400 words and questions that have more than 25 words.\n",
        "\n",
        "We will set the length of a word to 15 characters\n",
        "\n",
        "**EDIT :** These numbers are huge but we won't get out of memory errors if we build a sequence generator. If you don't want to use the sequence generator, you should reduce these numbers.\n",
        "\n",
        "**EDIT :** Now that we use a sequence generator, we could define `*_MAXLEN` variables according to the stats provided by the training set"
      ]
    },
    {
      "cell_type": "code",
      "metadata": {
        "id": "3WiAI_oA_3lY"
      },
      "source": [
        "QUESTION_MAXLEN = 25\n",
        "CONTEXT_MAXLEN = 400\n",
        "WORD_MAXLEN = 15\n",
        "BATCH_SIZE = 10"
      ],
      "execution_count": 40,
      "outputs": []
    },
    {
      "cell_type": "code",
      "metadata": {
        "colab": {
          "base_uri": "https://localhost:8080/"
        },
        "id": "5fZMoWqTL2Wz",
        "outputId": "73b7a6cc-7017-42ec-af33-84fdcab365aa"
      },
      "source": [
        "tr_df.shape, vl_df.shape"
      ],
      "execution_count": 41,
      "outputs": [
        {
          "output_type": "execute_result",
          "data": {
            "text/plain": [
              "((70010, 13), (17505, 13))"
            ]
          },
          "metadata": {
            "tags": []
          },
          "execution_count": 41
        }
      ]
    },
    {
      "cell_type": "code",
      "metadata": {
        "id": "ibILzhoh-Mf8"
      },
      "source": [
        "tr_df = tr_df[(tr_df['tokenized_question'].str.len() <= QUESTION_MAXLEN) & (tr_df['tokenized_context'].str.len() <= CONTEXT_MAXLEN) & (tr_df['start'] <= CONTEXT_MAXLEN) & (tr_df['end'] <= CONTEXT_MAXLEN) ].reset_index(drop = True)\n",
        "vl_df = vl_df[(vl_df['tokenized_question'].str.len() <= QUESTION_MAXLEN) & (vl_df['tokenized_context'].str.len() <= CONTEXT_MAXLEN) & (vl_df['start'] <= CONTEXT_MAXLEN) & (vl_df['end'] <= CONTEXT_MAXLEN) ].reset_index(drop = True)"
      ],
      "execution_count": 42,
      "outputs": []
    },
    {
      "cell_type": "code",
      "metadata": {
        "colab": {
          "base_uri": "https://localhost:8080/"
        },
        "id": "qQTuvAo7oGcA",
        "outputId": "502ad350-c1ae-4052-abcd-6c217f23849d"
      },
      "source": [
        "tr_df.shape[0], vl_df.shape[0]"
      ],
      "execution_count": 43,
      "outputs": [
        {
          "output_type": "execute_result",
          "data": {
            "text/plain": [
              "(69606, 17413)"
            ]
          },
          "metadata": {
            "tags": []
          },
          "execution_count": 43
        }
      ]
    },
    {
      "cell_type": "code",
      "metadata": {
        "colab": {
          "base_uri": "https://localhost:8080/"
        },
        "id": "93mWQxFLG3z9",
        "outputId": "126cd824-eecc-42da-a3f1-c11daedee2e2"
      },
      "source": [
        " print(f' we get rid of : {SAMPLES - (tr_df.shape[0] + vl_df.shape[0])} samples')"
      ],
      "execution_count": 44,
      "outputs": [
        {
          "output_type": "stream",
          "text": [
            " we get rid of : 580 samples\n"
          ],
          "name": "stdout"
        }
      ]
    },
    {
      "cell_type": "code",
      "metadata": {
        "colab": {
          "base_uri": "https://localhost:8080/"
        },
        "id": "4lFv9wpDfDOj",
        "outputId": "267a4498-4876-4288-ba58-105ca95ad679"
      },
      "source": [
        "# save datasets in json format\n",
        "path_to_train_set = os.path.join(os.getcwd(), '/content/SQuAD/models/BIDAF/utils/data/train_set.json')\n",
        "df_to_json(tr_df, path_to_train_set)\n",
        "\n",
        "path_to_valid_set = os.path.join(os.getcwd(), '/content/SQuAD/models/BIDAF/utils/data/valid_set.json')\n",
        "df_to_json(vl_df, path_to_valid_set)"
      ],
      "execution_count": 46,
      "outputs": [
        {
          "output_type": "stream",
          "text": [
            "dataset saved in /content/SQuAD/models/BIDAF/utils/data/train_set.json\n",
            "dataset saved in /content/SQuAD/models/BIDAF/utils/data/valid_set.json\n"
          ],
          "name": "stdout"
        }
      ]
    },
    {
      "cell_type": "code",
      "metadata": {
        "id": "Owvocjs5JCPa"
      },
      "source": [
        "# we save both tokenizers\n",
        "tokenizers_folder = os.path.join(os.getcwd(), '/content/SQuAD/models/BIDAF/utils', 'tokenizers')\n",
        "if not os.path.exists(tokenizers_folder):\n",
        "  os.makedirs(tokenizers_folder)\n",
        "\n",
        "path_word_tokenizer = os.path.join(tokenizers_folder, 'word_tokenizer.pkl')\n",
        "with open(path_word_tokenizer, 'wb') as handle:\n",
        "    pickle.dump(tokenizer, handle, protocol = pickle.HIGHEST_PROTOCOL)\n",
        "\n",
        "path_char_tokenizer = os.path.join(tokenizers_folder, 'char_tokenizer.pkl')\n",
        "with open(path_char_tokenizer, 'wb') as handle:\n",
        "    pickle.dump(char_tokenizer, handle, protocol = pickle.HIGHEST_PROTOCOL)"
      ],
      "execution_count": 47,
      "outputs": []
    },
    {
      "cell_type": "markdown",
      "metadata": {
        "id": "XX5aJeXaqnZh"
      },
      "source": [
        "We create the iterator. The iterator allows us to work with much bigger data, because it is loaded into memory only when we need them"
      ]
    },
    {
      "cell_type": "code",
      "metadata": {
        "id": "TMEr6c_hiv6Q"
      },
      "source": [
        "# utils/datasets/dataset.py\n",
        "class SQUAD_dataset(tf.keras.utils.Sequence):\n",
        "\n",
        "  \"\"\"\n",
        "  utility class to create a working dataset that\n",
        "  can be given to a neural network\n",
        "  \"\"\"\n",
        "\n",
        "  def __init__(self, data, question_maxlen, context_maxlen, word_maxlen, batch_size, with_answer = True):\n",
        "    self.QUESTION_MAXLEN = question_maxlen\n",
        "    self.CONTEXT_MAXLEN = context_maxlen\n",
        "    self.WORD_MAXLEN = word_maxlen\n",
        "    self.batch_size = batch_size\n",
        "    self.with_answer = with_answer\n",
        "    self.__get_batches(data)\n",
        "\n",
        "  def __len__(self):\n",
        "    return len(self.batches)\n",
        "\n",
        "  def __get_batches(self, data):\n",
        "    batches = [data[i:i+self.batch_size] for i in range(0, len(data), self.batch_size)]\n",
        "    self.batches = batches\n",
        "\n",
        "  def __repr__(self):\n",
        "    template = '''SQUAD_dataset : questions : ({0}, {1}), contexts : ({0}, {2}), char_questions : ({0}, {1}, {3}), char_contexts : ({0}, {2}, {3}), id : ({0}, 1)'''.format(self.batch_size, self.QUESTION_MAXLEN, self.CONTEXT_MAXLEN, self.WORD_MAXLEN)\n",
        "    return template\n",
        "\n",
        "  @classmethod\n",
        "  def from_file(cls, path):\n",
        "    path = os.path.join(os.getcwd(), path)\n",
        "    with open(path, 'rb') as handle:\n",
        "      dataset = pickle.load(handle)\n",
        "    return dataset\n",
        "\n",
        "  def to_pickle(self, path):\n",
        "    path = os.path.join(os.getcwd(), path)\n",
        "    folder = os.path.dirname(path)\n",
        "\n",
        "    if not os.path.exists(folder):\n",
        "      os.makedirs(folder)\n",
        "\n",
        "    with open(path, 'wb') as handle:\n",
        "      pickle.dump(self, handle, protocol = pickle.HIGHEST_PROTOCOL)\n",
        "\n",
        "  def __getitem__(self, idx):\n",
        "    batch = self.batches[idx].reset_index(drop = True)\n",
        "\n",
        "    id = np.asarray(batch['id'])\n",
        "\n",
        "    # questions and contexts words padding\n",
        "    q_w = tf.keras.preprocessing.sequence.pad_sequences(batch['tokenized_question'], padding = 'post', maxlen = self.QUESTION_MAXLEN)\n",
        "    c_w = tf.keras.preprocessing.sequence.pad_sequences(batch['tokenized_context'], padding = 'post', maxlen = self.CONTEXT_MAXLEN)\n",
        "\n",
        "    # question_char padding\n",
        "    q_c = np.zeros((q_w.shape[0], self.QUESTION_MAXLEN, self.WORD_MAXLEN), dtype = np.int32)\n",
        "\n",
        "    for i, value in batch['char_tokenized_question'].iteritems():\n",
        "      v = tf.keras.preprocessing.sequence.pad_sequences(value, padding = 'post', maxlen = self.WORD_MAXLEN, truncating = 'post')\n",
        "      to_add = self.QUESTION_MAXLEN - v.shape[0]\n",
        "      add = np.zeros((to_add, self.WORD_MAXLEN))\n",
        "      arr = np.vstack([v,add])\n",
        "      q_c[i] = arr\n",
        "\n",
        "    # context_char padding\n",
        "    c_c = np.zeros((q_w.shape[0], self.CONTEXT_MAXLEN, self.WORD_MAXLEN), dtype = np.int32)\n",
        "\n",
        "    for i, value in batch['char_tokenized_context'].iteritems():\n",
        "      v = tf.keras.preprocessing.sequence.pad_sequences(value, padding = 'post', maxlen = self.WORD_MAXLEN, truncating = 'post')\n",
        "      to_add = self.CONTEXT_MAXLEN - v.shape[0]\n",
        "      add = np.zeros((to_add, self.WORD_MAXLEN))\n",
        "      arr = np.vstack([v,add])\n",
        "      c_c[i] = arr\n",
        "\n",
        "    # one hot encode start and end\n",
        "    if self.with_answer:\n",
        "      y_start = tf.keras.utils.to_categorical(batch['start'].values, self.CONTEXT_MAXLEN)\n",
        "      y_end = tf.keras.utils.to_categorical(batch['end'].values, self.CONTEXT_MAXLEN)\n",
        "\n",
        "      # (inputs), (outputs), (id)\n",
        "      return (q_w, c_w, q_c, c_c), (y_start, y_end), (id,)\n",
        "    return (q_c, c_w, q_c, c_c), (id,)"
      ],
      "execution_count": 49,
      "outputs": []
    },
    {
      "cell_type": "code",
      "metadata": {
        "id": "rGTS5gSunCRa"
      },
      "source": [
        "tr_data = SQUAD_dataset(tr_df, batch_size = BATCH_SIZE, question_maxlen = QUESTION_MAXLEN, context_maxlen = CONTEXT_MAXLEN, word_maxlen = WORD_MAXLEN)\n",
        "vl_data = SQUAD_dataset(vl_df, batch_size = BATCH_SIZE, question_maxlen = QUESTION_MAXLEN, context_maxlen = CONTEXT_MAXLEN, word_maxlen = WORD_MAXLEN)"
      ],
      "execution_count": 50,
      "outputs": []
    },
    {
      "cell_type": "code",
      "metadata": {
        "colab": {
          "base_uri": "https://localhost:8080/"
        },
        "id": "9VciOKiQtyAx",
        "outputId": "c27ec1e0-2485-40d4-f6e2-0e4eacc2c871"
      },
      "source": [
        "# number of batches\n",
        "print(len(tr_data))\n",
        "len(vl_data)"
      ],
      "execution_count": 51,
      "outputs": [
        {
          "output_type": "stream",
          "text": [
            "6961\n"
          ],
          "name": "stdout"
        },
        {
          "output_type": "execute_result",
          "data": {
            "text/plain": [
              "1742"
            ]
          },
          "metadata": {
            "tags": []
          },
          "execution_count": 51
        }
      ]
    },
    {
      "cell_type": "code",
      "metadata": {
        "colab": {
          "base_uri": "https://localhost:8080/"
        },
        "id": "1GtQIVC9zZ5g",
        "outputId": "f7afb5bf-d870-4235-908f-403d33496f6d"
      },
      "source": [
        "tr_data"
      ],
      "execution_count": 52,
      "outputs": [
        {
          "output_type": "execute_result",
          "data": {
            "text/plain": [
              "SQUAD_dataset : questions : (10, 25), contexts : (10, 400), char_questions : (10, 25, 15), char_contexts : (10, 400, 15), id : (10, 1)"
            ]
          },
          "metadata": {
            "tags": []
          },
          "execution_count": 52
        }
      ]
    },
    {
      "cell_type": "code",
      "metadata": {
        "id": "etbiAh9h1-Fg"
      },
      "source": [
        "tr_data.to_pickle('/content/SQuAD/models/BIDAF/utils/datasets/train_dataset.pkl')\n",
        "vl_data.to_pickle('/content/SQuAD/models/BIDAF/utils/datasets/valid_dataset.pkl')"
      ],
      "execution_count": 53,
      "outputs": []
    },
    {
      "cell_type": "markdown",
      "metadata": {
        "id": "QSo5-GcJQe18"
      },
      "source": [
        "Now that the preprocessing is over we can preprocess a (mock) unseen dataset. It is basically the same that the one we have seen just before, but it does not contain the start and end span (text and answer_start fields)"
      ]
    },
    {
      "cell_type": "code",
      "metadata": {
        "colab": {
          "base_uri": "https://localhost:8080/"
        },
        "id": "W8eli84fbubp",
        "outputId": "d02cffa7-d83a-4bee-d57b-0194c3201ca6"
      },
      "source": [
        "# with_answer = False to parse a dataset with no answer\n",
        "unseen_dataset = load_dataset(SQUAD_PATH, with_answer = False)"
      ],
      "execution_count": 55,
      "outputs": [
        {
          "output_type": "stream",
          "text": [
            "Reading the json file\n",
            "[INFO] processing...\n",
            "[INFO] there are 87599 questions with single answer\n",
            "[INFO] there are 18891 different contexts\n",
            "[INFO] there are 442 unrelated subjects\n",
            "[INFO] Done\n"
          ],
          "name": "stdout"
        }
      ]
    },
    {
      "cell_type": "code",
      "metadata": {
        "id": "au8aZNFfde5I"
      },
      "source": [
        "s = unseen_dataset.shape[0]"
      ],
      "execution_count": 56,
      "outputs": []
    },
    {
      "cell_type": "code",
      "metadata": {
        "colab": {
          "base_uri": "https://localhost:8080/"
        },
        "id": "McWg6RJy-NOl",
        "outputId": "eadd5cef-892e-4417-b772-ba12c0dc8def"
      },
      "source": [
        "unseen_dataset = clean_dataset(unseen_dataset, with_answer = False)\n",
        "unseen_dataset = tokenize(unseen_dataset, tokenizer, char_tokenizer)\n",
        "unseen_dataset = unseen_dataset[(unseen_dataset['tokenized_question'].str.len() <= QUESTION_MAXLEN) & (unseen_dataset['tokenized_context'].str.len() <= CONTEXT_MAXLEN)].reset_index(drop = True)\n",
        "print(f' we get rid of : {s - (unseen_dataset.shape[0])} samples')"
      ],
      "execution_count": 57,
      "outputs": [
        {
          "output_type": "stream",
          "text": [
            " we get rid of : 496 samples\n"
          ],
          "name": "stdout"
        }
      ]
    },
    {
      "cell_type": "code",
      "metadata": {
        "colab": {
          "base_uri": "https://localhost:8080/"
        },
        "id": "2oPFVcMAAIb-",
        "outputId": "fe1e8909-620d-41ec-ed6e-b406679f0ef6"
      },
      "source": [
        "unseen_path = os.path.join(os.getcwd(), '/content/SQuAD/models/BIDAF/utils/data/unseen_set.json')\n",
        "df_to_json(unseen_dataset, unseen_path, with_answer = False)"
      ],
      "execution_count": 58,
      "outputs": [
        {
          "output_type": "stream",
          "text": [
            "dataset saved in /content/SQuAD/models/BIDAF/utils/data/unseen_set.json\n"
          ],
          "name": "stdout"
        }
      ]
    },
    {
      "cell_type": "code",
      "metadata": {
        "id": "YYsbL8bs_ZFf"
      },
      "source": [
        "unseen_data = SQUAD_dataset(unseen_dataset, batch_size = BATCH_SIZE, question_maxlen = QUESTION_MAXLEN, context_maxlen = CONTEXT_MAXLEN, word_maxlen = WORD_MAXLEN, with_answer = False)"
      ],
      "execution_count": 59,
      "outputs": []
    },
    {
      "cell_type": "code",
      "metadata": {
        "colab": {
          "base_uri": "https://localhost:8080/"
        },
        "id": "koM-e00x_wsM",
        "outputId": "dfc943b9-f530-422d-a164-0cd54011ba40"
      },
      "source": [
        "unseen_data"
      ],
      "execution_count": 60,
      "outputs": [
        {
          "output_type": "execute_result",
          "data": {
            "text/plain": [
              "SQUAD_dataset : questions : (10, 25), contexts : (10, 400), char_questions : (10, 25, 15), char_contexts : (10, 400, 15), id : (10, 1)"
            ]
          },
          "metadata": {
            "tags": []
          },
          "execution_count": 60
        }
      ]
    },
    {
      "cell_type": "code",
      "metadata": {
        "id": "DOWz8V-2_yze"
      },
      "source": [
        "unseen_data.to_pickle('/content/SQuAD/models/BIDAF/utils/datasets/unseen_dataset.pkl')"
      ],
      "execution_count": 61,
      "outputs": []
    }
  ]
}