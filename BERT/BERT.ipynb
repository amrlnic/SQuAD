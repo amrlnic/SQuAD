{
  "nbformat": 4,
  "nbformat_minor": 0,
  "metadata": {
    "colab": {
      "name": "BERT.ipynb",
      "provenance": [],
      "collapsed_sections": [],
      "toc_visible": true,
      "include_colab_link": true
    },
    "kernelspec": {
      "name": "python3",
      "display_name": "Python 3"
    },
    "widgets": {
      "application/vnd.jupyter.widget-state+json": {
        "922788f2d70847bc9d2700d898b8398c": {
          "model_module": "@jupyter-widgets/controls",
          "model_name": "HBoxModel",
          "state": {
            "_view_name": "HBoxView",
            "_dom_classes": [],
            "_model_name": "HBoxModel",
            "_view_module": "@jupyter-widgets/controls",
            "_model_module_version": "1.5.0",
            "_view_count": null,
            "_view_module_version": "1.5.0",
            "box_style": "",
            "layout": "IPY_MODEL_e5c26423ed8d4c98bd7c89461b2e8478",
            "_model_module": "@jupyter-widgets/controls",
            "children": [
              "IPY_MODEL_63d20547ccb941778b954bd055f48f7e",
              "IPY_MODEL_612bd43931b94f55b4acd2486dfe5e6b"
            ]
          }
        },
        "e5c26423ed8d4c98bd7c89461b2e8478": {
          "model_module": "@jupyter-widgets/base",
          "model_name": "LayoutModel",
          "state": {
            "_view_name": "LayoutView",
            "grid_template_rows": null,
            "right": null,
            "justify_content": null,
            "_view_module": "@jupyter-widgets/base",
            "overflow": null,
            "_model_module_version": "1.2.0",
            "_view_count": null,
            "flex_flow": null,
            "width": null,
            "min_width": null,
            "border": null,
            "align_items": null,
            "bottom": null,
            "_model_module": "@jupyter-widgets/base",
            "top": null,
            "grid_column": null,
            "overflow_y": null,
            "overflow_x": null,
            "grid_auto_flow": null,
            "grid_area": null,
            "grid_template_columns": null,
            "flex": null,
            "_model_name": "LayoutModel",
            "justify_items": null,
            "grid_row": null,
            "max_height": null,
            "align_content": null,
            "visibility": null,
            "align_self": null,
            "height": null,
            "min_height": null,
            "padding": null,
            "grid_auto_rows": null,
            "grid_gap": null,
            "max_width": null,
            "order": null,
            "_view_module_version": "1.2.0",
            "grid_template_areas": null,
            "object_position": null,
            "object_fit": null,
            "grid_auto_columns": null,
            "margin": null,
            "display": null,
            "left": null
          }
        },
        "63d20547ccb941778b954bd055f48f7e": {
          "model_module": "@jupyter-widgets/controls",
          "model_name": "FloatProgressModel",
          "state": {
            "_view_name": "ProgressView",
            "style": "IPY_MODEL_7da93d6059ec4b95bb2809c1406b513e",
            "_dom_classes": [],
            "description": "Downloading: 100%",
            "_model_name": "FloatProgressModel",
            "bar_style": "success",
            "max": 231508,
            "_view_module": "@jupyter-widgets/controls",
            "_model_module_version": "1.5.0",
            "value": 231508,
            "_view_count": null,
            "_view_module_version": "1.5.0",
            "orientation": "horizontal",
            "min": 0,
            "description_tooltip": null,
            "_model_module": "@jupyter-widgets/controls",
            "layout": "IPY_MODEL_a0ce538447a243bebd493f52acd5c9a6"
          }
        },
        "612bd43931b94f55b4acd2486dfe5e6b": {
          "model_module": "@jupyter-widgets/controls",
          "model_name": "HTMLModel",
          "state": {
            "_view_name": "HTMLView",
            "style": "IPY_MODEL_c37e022d76d248fb9c083dde8b028934",
            "_dom_classes": [],
            "description": "",
            "_model_name": "HTMLModel",
            "placeholder": "​",
            "_view_module": "@jupyter-widgets/controls",
            "_model_module_version": "1.5.0",
            "value": " 232k/232k [00:02&lt;00:00, 87.8kB/s]",
            "_view_count": null,
            "_view_module_version": "1.5.0",
            "description_tooltip": null,
            "_model_module": "@jupyter-widgets/controls",
            "layout": "IPY_MODEL_007612df16744127a35a4d9c0ff016a4"
          }
        },
        "7da93d6059ec4b95bb2809c1406b513e": {
          "model_module": "@jupyter-widgets/controls",
          "model_name": "ProgressStyleModel",
          "state": {
            "_view_name": "StyleView",
            "_model_name": "ProgressStyleModel",
            "description_width": "initial",
            "_view_module": "@jupyter-widgets/base",
            "_model_module_version": "1.5.0",
            "_view_count": null,
            "_view_module_version": "1.2.0",
            "bar_color": null,
            "_model_module": "@jupyter-widgets/controls"
          }
        },
        "a0ce538447a243bebd493f52acd5c9a6": {
          "model_module": "@jupyter-widgets/base",
          "model_name": "LayoutModel",
          "state": {
            "_view_name": "LayoutView",
            "grid_template_rows": null,
            "right": null,
            "justify_content": null,
            "_view_module": "@jupyter-widgets/base",
            "overflow": null,
            "_model_module_version": "1.2.0",
            "_view_count": null,
            "flex_flow": null,
            "width": null,
            "min_width": null,
            "border": null,
            "align_items": null,
            "bottom": null,
            "_model_module": "@jupyter-widgets/base",
            "top": null,
            "grid_column": null,
            "overflow_y": null,
            "overflow_x": null,
            "grid_auto_flow": null,
            "grid_area": null,
            "grid_template_columns": null,
            "flex": null,
            "_model_name": "LayoutModel",
            "justify_items": null,
            "grid_row": null,
            "max_height": null,
            "align_content": null,
            "visibility": null,
            "align_self": null,
            "height": null,
            "min_height": null,
            "padding": null,
            "grid_auto_rows": null,
            "grid_gap": null,
            "max_width": null,
            "order": null,
            "_view_module_version": "1.2.0",
            "grid_template_areas": null,
            "object_position": null,
            "object_fit": null,
            "grid_auto_columns": null,
            "margin": null,
            "display": null,
            "left": null
          }
        },
        "c37e022d76d248fb9c083dde8b028934": {
          "model_module": "@jupyter-widgets/controls",
          "model_name": "DescriptionStyleModel",
          "state": {
            "_view_name": "StyleView",
            "_model_name": "DescriptionStyleModel",
            "description_width": "",
            "_view_module": "@jupyter-widgets/base",
            "_model_module_version": "1.5.0",
            "_view_count": null,
            "_view_module_version": "1.2.0",
            "_model_module": "@jupyter-widgets/controls"
          }
        },
        "007612df16744127a35a4d9c0ff016a4": {
          "model_module": "@jupyter-widgets/base",
          "model_name": "LayoutModel",
          "state": {
            "_view_name": "LayoutView",
            "grid_template_rows": null,
            "right": null,
            "justify_content": null,
            "_view_module": "@jupyter-widgets/base",
            "overflow": null,
            "_model_module_version": "1.2.0",
            "_view_count": null,
            "flex_flow": null,
            "width": null,
            "min_width": null,
            "border": null,
            "align_items": null,
            "bottom": null,
            "_model_module": "@jupyter-widgets/base",
            "top": null,
            "grid_column": null,
            "overflow_y": null,
            "overflow_x": null,
            "grid_auto_flow": null,
            "grid_area": null,
            "grid_template_columns": null,
            "flex": null,
            "_model_name": "LayoutModel",
            "justify_items": null,
            "grid_row": null,
            "max_height": null,
            "align_content": null,
            "visibility": null,
            "align_self": null,
            "height": null,
            "min_height": null,
            "padding": null,
            "grid_auto_rows": null,
            "grid_gap": null,
            "max_width": null,
            "order": null,
            "_view_module_version": "1.2.0",
            "grid_template_areas": null,
            "object_position": null,
            "object_fit": null,
            "grid_auto_columns": null,
            "margin": null,
            "display": null,
            "left": null
          }
        },
        "ff36027f06794d1c98b558877b41933a": {
          "model_module": "@jupyter-widgets/controls",
          "model_name": "HBoxModel",
          "state": {
            "_view_name": "HBoxView",
            "_dom_classes": [],
            "_model_name": "HBoxModel",
            "_view_module": "@jupyter-widgets/controls",
            "_model_module_version": "1.5.0",
            "_view_count": null,
            "_view_module_version": "1.5.0",
            "box_style": "",
            "layout": "IPY_MODEL_4087231e4c6343d691c95fa780975892",
            "_model_module": "@jupyter-widgets/controls",
            "children": [
              "IPY_MODEL_62dfad2014874aa792e2f5c1d23674c0",
              "IPY_MODEL_c9a59f6bbabb45ad82079876b7fb2ee3"
            ]
          }
        },
        "4087231e4c6343d691c95fa780975892": {
          "model_module": "@jupyter-widgets/base",
          "model_name": "LayoutModel",
          "state": {
            "_view_name": "LayoutView",
            "grid_template_rows": null,
            "right": null,
            "justify_content": null,
            "_view_module": "@jupyter-widgets/base",
            "overflow": null,
            "_model_module_version": "1.2.0",
            "_view_count": null,
            "flex_flow": null,
            "width": null,
            "min_width": null,
            "border": null,
            "align_items": null,
            "bottom": null,
            "_model_module": "@jupyter-widgets/base",
            "top": null,
            "grid_column": null,
            "overflow_y": null,
            "overflow_x": null,
            "grid_auto_flow": null,
            "grid_area": null,
            "grid_template_columns": null,
            "flex": null,
            "_model_name": "LayoutModel",
            "justify_items": null,
            "grid_row": null,
            "max_height": null,
            "align_content": null,
            "visibility": null,
            "align_self": null,
            "height": null,
            "min_height": null,
            "padding": null,
            "grid_auto_rows": null,
            "grid_gap": null,
            "max_width": null,
            "order": null,
            "_view_module_version": "1.2.0",
            "grid_template_areas": null,
            "object_position": null,
            "object_fit": null,
            "grid_auto_columns": null,
            "margin": null,
            "display": null,
            "left": null
          }
        },
        "62dfad2014874aa792e2f5c1d23674c0": {
          "model_module": "@jupyter-widgets/controls",
          "model_name": "FloatProgressModel",
          "state": {
            "_view_name": "ProgressView",
            "style": "IPY_MODEL_90cc701197534b63ac9fb703b2005394",
            "_dom_classes": [],
            "description": "Downloading: 100%",
            "_model_name": "FloatProgressModel",
            "bar_style": "success",
            "max": 28,
            "_view_module": "@jupyter-widgets/controls",
            "_model_module_version": "1.5.0",
            "value": 28,
            "_view_count": null,
            "_view_module_version": "1.5.0",
            "orientation": "horizontal",
            "min": 0,
            "description_tooltip": null,
            "_model_module": "@jupyter-widgets/controls",
            "layout": "IPY_MODEL_7969a0e621944108b277b77f631d74ee"
          }
        },
        "c9a59f6bbabb45ad82079876b7fb2ee3": {
          "model_module": "@jupyter-widgets/controls",
          "model_name": "HTMLModel",
          "state": {
            "_view_name": "HTMLView",
            "style": "IPY_MODEL_0893928a85a946e985b626fd66de7154",
            "_dom_classes": [],
            "description": "",
            "_model_name": "HTMLModel",
            "placeholder": "​",
            "_view_module": "@jupyter-widgets/controls",
            "_model_module_version": "1.5.0",
            "value": " 28.0/28.0 [00:02&lt;00:00, 13.3B/s]",
            "_view_count": null,
            "_view_module_version": "1.5.0",
            "description_tooltip": null,
            "_model_module": "@jupyter-widgets/controls",
            "layout": "IPY_MODEL_60543a05608c488094a67751ff4bf0e4"
          }
        },
        "90cc701197534b63ac9fb703b2005394": {
          "model_module": "@jupyter-widgets/controls",
          "model_name": "ProgressStyleModel",
          "state": {
            "_view_name": "StyleView",
            "_model_name": "ProgressStyleModel",
            "description_width": "initial",
            "_view_module": "@jupyter-widgets/base",
            "_model_module_version": "1.5.0",
            "_view_count": null,
            "_view_module_version": "1.2.0",
            "bar_color": null,
            "_model_module": "@jupyter-widgets/controls"
          }
        },
        "7969a0e621944108b277b77f631d74ee": {
          "model_module": "@jupyter-widgets/base",
          "model_name": "LayoutModel",
          "state": {
            "_view_name": "LayoutView",
            "grid_template_rows": null,
            "right": null,
            "justify_content": null,
            "_view_module": "@jupyter-widgets/base",
            "overflow": null,
            "_model_module_version": "1.2.0",
            "_view_count": null,
            "flex_flow": null,
            "width": null,
            "min_width": null,
            "border": null,
            "align_items": null,
            "bottom": null,
            "_model_module": "@jupyter-widgets/base",
            "top": null,
            "grid_column": null,
            "overflow_y": null,
            "overflow_x": null,
            "grid_auto_flow": null,
            "grid_area": null,
            "grid_template_columns": null,
            "flex": null,
            "_model_name": "LayoutModel",
            "justify_items": null,
            "grid_row": null,
            "max_height": null,
            "align_content": null,
            "visibility": null,
            "align_self": null,
            "height": null,
            "min_height": null,
            "padding": null,
            "grid_auto_rows": null,
            "grid_gap": null,
            "max_width": null,
            "order": null,
            "_view_module_version": "1.2.0",
            "grid_template_areas": null,
            "object_position": null,
            "object_fit": null,
            "grid_auto_columns": null,
            "margin": null,
            "display": null,
            "left": null
          }
        },
        "0893928a85a946e985b626fd66de7154": {
          "model_module": "@jupyter-widgets/controls",
          "model_name": "DescriptionStyleModel",
          "state": {
            "_view_name": "StyleView",
            "_model_name": "DescriptionStyleModel",
            "description_width": "",
            "_view_module": "@jupyter-widgets/base",
            "_model_module_version": "1.5.0",
            "_view_count": null,
            "_view_module_version": "1.2.0",
            "_model_module": "@jupyter-widgets/controls"
          }
        },
        "60543a05608c488094a67751ff4bf0e4": {
          "model_module": "@jupyter-widgets/base",
          "model_name": "LayoutModel",
          "state": {
            "_view_name": "LayoutView",
            "grid_template_rows": null,
            "right": null,
            "justify_content": null,
            "_view_module": "@jupyter-widgets/base",
            "overflow": null,
            "_model_module_version": "1.2.0",
            "_view_count": null,
            "flex_flow": null,
            "width": null,
            "min_width": null,
            "border": null,
            "align_items": null,
            "bottom": null,
            "_model_module": "@jupyter-widgets/base",
            "top": null,
            "grid_column": null,
            "overflow_y": null,
            "overflow_x": null,
            "grid_auto_flow": null,
            "grid_area": null,
            "grid_template_columns": null,
            "flex": null,
            "_model_name": "LayoutModel",
            "justify_items": null,
            "grid_row": null,
            "max_height": null,
            "align_content": null,
            "visibility": null,
            "align_self": null,
            "height": null,
            "min_height": null,
            "padding": null,
            "grid_auto_rows": null,
            "grid_gap": null,
            "max_width": null,
            "order": null,
            "_view_module_version": "1.2.0",
            "grid_template_areas": null,
            "object_position": null,
            "object_fit": null,
            "grid_auto_columns": null,
            "margin": null,
            "display": null,
            "left": null
          }
        },
        "a7ac35dc139c4af5aa3ab670de3d6fdf": {
          "model_module": "@jupyter-widgets/controls",
          "model_name": "HBoxModel",
          "state": {
            "_view_name": "HBoxView",
            "_dom_classes": [],
            "_model_name": "HBoxModel",
            "_view_module": "@jupyter-widgets/controls",
            "_model_module_version": "1.5.0",
            "_view_count": null,
            "_view_module_version": "1.5.0",
            "box_style": "",
            "layout": "IPY_MODEL_defe8c06d20f4202bb5e27eaebdd64f3",
            "_model_module": "@jupyter-widgets/controls",
            "children": [
              "IPY_MODEL_d36f0fa2e9ad4e108c00d647b9289d75",
              "IPY_MODEL_93e13ff277b54a14ae471858533c779d"
            ]
          }
        },
        "defe8c06d20f4202bb5e27eaebdd64f3": {
          "model_module": "@jupyter-widgets/base",
          "model_name": "LayoutModel",
          "state": {
            "_view_name": "LayoutView",
            "grid_template_rows": null,
            "right": null,
            "justify_content": null,
            "_view_module": "@jupyter-widgets/base",
            "overflow": null,
            "_model_module_version": "1.2.0",
            "_view_count": null,
            "flex_flow": null,
            "width": null,
            "min_width": null,
            "border": null,
            "align_items": null,
            "bottom": null,
            "_model_module": "@jupyter-widgets/base",
            "top": null,
            "grid_column": null,
            "overflow_y": null,
            "overflow_x": null,
            "grid_auto_flow": null,
            "grid_area": null,
            "grid_template_columns": null,
            "flex": null,
            "_model_name": "LayoutModel",
            "justify_items": null,
            "grid_row": null,
            "max_height": null,
            "align_content": null,
            "visibility": null,
            "align_self": null,
            "height": null,
            "min_height": null,
            "padding": null,
            "grid_auto_rows": null,
            "grid_gap": null,
            "max_width": null,
            "order": null,
            "_view_module_version": "1.2.0",
            "grid_template_areas": null,
            "object_position": null,
            "object_fit": null,
            "grid_auto_columns": null,
            "margin": null,
            "display": null,
            "left": null
          }
        },
        "d36f0fa2e9ad4e108c00d647b9289d75": {
          "model_module": "@jupyter-widgets/controls",
          "model_name": "FloatProgressModel",
          "state": {
            "_view_name": "ProgressView",
            "style": "IPY_MODEL_0f40763a1ddb4dcb898d289979d66c13",
            "_dom_classes": [],
            "description": "Downloading: 100%",
            "_model_name": "FloatProgressModel",
            "bar_style": "success",
            "max": 466062,
            "_view_module": "@jupyter-widgets/controls",
            "_model_module_version": "1.5.0",
            "value": 466062,
            "_view_count": null,
            "_view_module_version": "1.5.0",
            "orientation": "horizontal",
            "min": 0,
            "description_tooltip": null,
            "_model_module": "@jupyter-widgets/controls",
            "layout": "IPY_MODEL_80157b635e88467fb078ae3385547b30"
          }
        },
        "93e13ff277b54a14ae471858533c779d": {
          "model_module": "@jupyter-widgets/controls",
          "model_name": "HTMLModel",
          "state": {
            "_view_name": "HTMLView",
            "style": "IPY_MODEL_3217547e848d49b7b007b2f89dbed7cb",
            "_dom_classes": [],
            "description": "",
            "_model_name": "HTMLModel",
            "placeholder": "​",
            "_view_module": "@jupyter-widgets/controls",
            "_model_module_version": "1.5.0",
            "value": " 466k/466k [00:00&lt;00:00, 498kB/s]",
            "_view_count": null,
            "_view_module_version": "1.5.0",
            "description_tooltip": null,
            "_model_module": "@jupyter-widgets/controls",
            "layout": "IPY_MODEL_f0d472496e1f4857982bb15a5d0ef6b3"
          }
        },
        "0f40763a1ddb4dcb898d289979d66c13": {
          "model_module": "@jupyter-widgets/controls",
          "model_name": "ProgressStyleModel",
          "state": {
            "_view_name": "StyleView",
            "_model_name": "ProgressStyleModel",
            "description_width": "initial",
            "_view_module": "@jupyter-widgets/base",
            "_model_module_version": "1.5.0",
            "_view_count": null,
            "_view_module_version": "1.2.0",
            "bar_color": null,
            "_model_module": "@jupyter-widgets/controls"
          }
        },
        "80157b635e88467fb078ae3385547b30": {
          "model_module": "@jupyter-widgets/base",
          "model_name": "LayoutModel",
          "state": {
            "_view_name": "LayoutView",
            "grid_template_rows": null,
            "right": null,
            "justify_content": null,
            "_view_module": "@jupyter-widgets/base",
            "overflow": null,
            "_model_module_version": "1.2.0",
            "_view_count": null,
            "flex_flow": null,
            "width": null,
            "min_width": null,
            "border": null,
            "align_items": null,
            "bottom": null,
            "_model_module": "@jupyter-widgets/base",
            "top": null,
            "grid_column": null,
            "overflow_y": null,
            "overflow_x": null,
            "grid_auto_flow": null,
            "grid_area": null,
            "grid_template_columns": null,
            "flex": null,
            "_model_name": "LayoutModel",
            "justify_items": null,
            "grid_row": null,
            "max_height": null,
            "align_content": null,
            "visibility": null,
            "align_self": null,
            "height": null,
            "min_height": null,
            "padding": null,
            "grid_auto_rows": null,
            "grid_gap": null,
            "max_width": null,
            "order": null,
            "_view_module_version": "1.2.0",
            "grid_template_areas": null,
            "object_position": null,
            "object_fit": null,
            "grid_auto_columns": null,
            "margin": null,
            "display": null,
            "left": null
          }
        },
        "3217547e848d49b7b007b2f89dbed7cb": {
          "model_module": "@jupyter-widgets/controls",
          "model_name": "DescriptionStyleModel",
          "state": {
            "_view_name": "StyleView",
            "_model_name": "DescriptionStyleModel",
            "description_width": "",
            "_view_module": "@jupyter-widgets/base",
            "_model_module_version": "1.5.0",
            "_view_count": null,
            "_view_module_version": "1.2.0",
            "_model_module": "@jupyter-widgets/controls"
          }
        },
        "f0d472496e1f4857982bb15a5d0ef6b3": {
          "model_module": "@jupyter-widgets/base",
          "model_name": "LayoutModel",
          "state": {
            "_view_name": "LayoutView",
            "grid_template_rows": null,
            "right": null,
            "justify_content": null,
            "_view_module": "@jupyter-widgets/base",
            "overflow": null,
            "_model_module_version": "1.2.0",
            "_view_count": null,
            "flex_flow": null,
            "width": null,
            "min_width": null,
            "border": null,
            "align_items": null,
            "bottom": null,
            "_model_module": "@jupyter-widgets/base",
            "top": null,
            "grid_column": null,
            "overflow_y": null,
            "overflow_x": null,
            "grid_auto_flow": null,
            "grid_area": null,
            "grid_template_columns": null,
            "flex": null,
            "_model_name": "LayoutModel",
            "justify_items": null,
            "grid_row": null,
            "max_height": null,
            "align_content": null,
            "visibility": null,
            "align_self": null,
            "height": null,
            "min_height": null,
            "padding": null,
            "grid_auto_rows": null,
            "grid_gap": null,
            "max_width": null,
            "order": null,
            "_view_module_version": "1.2.0",
            "grid_template_areas": null,
            "object_position": null,
            "object_fit": null,
            "grid_auto_columns": null,
            "margin": null,
            "display": null,
            "left": null
          }
        },
        "c9bfb186aa7e4d7b932ae8923bf3c030": {
          "model_module": "@jupyter-widgets/controls",
          "model_name": "HBoxModel",
          "state": {
            "_view_name": "HBoxView",
            "_dom_classes": [],
            "_model_name": "HBoxModel",
            "_view_module": "@jupyter-widgets/controls",
            "_model_module_version": "1.5.0",
            "_view_count": null,
            "_view_module_version": "1.5.0",
            "box_style": "",
            "layout": "IPY_MODEL_a4c152f8196149b39aef9218d8bdbbd9",
            "_model_module": "@jupyter-widgets/controls",
            "children": [
              "IPY_MODEL_7d454780d86243d093e985ca161f6c7f",
              "IPY_MODEL_8f3fd106d9204b7ba74f9b221e1427ef"
            ]
          }
        },
        "a4c152f8196149b39aef9218d8bdbbd9": {
          "model_module": "@jupyter-widgets/base",
          "model_name": "LayoutModel",
          "state": {
            "_view_name": "LayoutView",
            "grid_template_rows": null,
            "right": null,
            "justify_content": null,
            "_view_module": "@jupyter-widgets/base",
            "overflow": null,
            "_model_module_version": "1.2.0",
            "_view_count": null,
            "flex_flow": null,
            "width": null,
            "min_width": null,
            "border": null,
            "align_items": null,
            "bottom": null,
            "_model_module": "@jupyter-widgets/base",
            "top": null,
            "grid_column": null,
            "overflow_y": null,
            "overflow_x": null,
            "grid_auto_flow": null,
            "grid_area": null,
            "grid_template_columns": null,
            "flex": null,
            "_model_name": "LayoutModel",
            "justify_items": null,
            "grid_row": null,
            "max_height": null,
            "align_content": null,
            "visibility": null,
            "align_self": null,
            "height": null,
            "min_height": null,
            "padding": null,
            "grid_auto_rows": null,
            "grid_gap": null,
            "max_width": null,
            "order": null,
            "_view_module_version": "1.2.0",
            "grid_template_areas": null,
            "object_position": null,
            "object_fit": null,
            "grid_auto_columns": null,
            "margin": null,
            "display": null,
            "left": null
          }
        },
        "7d454780d86243d093e985ca161f6c7f": {
          "model_module": "@jupyter-widgets/controls",
          "model_name": "FloatProgressModel",
          "state": {
            "_view_name": "ProgressView",
            "style": "IPY_MODEL_4ae39961758d463897e4e6818b0756ff",
            "_dom_classes": [],
            "description": "Downloading: 100%",
            "_model_name": "FloatProgressModel",
            "bar_style": "success",
            "max": 433,
            "_view_module": "@jupyter-widgets/controls",
            "_model_module_version": "1.5.0",
            "value": 433,
            "_view_count": null,
            "_view_module_version": "1.5.0",
            "orientation": "horizontal",
            "min": 0,
            "description_tooltip": null,
            "_model_module": "@jupyter-widgets/controls",
            "layout": "IPY_MODEL_bb97bb80eb284bc5a9463b345c87ae4d"
          }
        },
        "8f3fd106d9204b7ba74f9b221e1427ef": {
          "model_module": "@jupyter-widgets/controls",
          "model_name": "HTMLModel",
          "state": {
            "_view_name": "HTMLView",
            "style": "IPY_MODEL_c8a6f2ffed784d9a89f09f912ad8af47",
            "_dom_classes": [],
            "description": "",
            "_model_name": "HTMLModel",
            "placeholder": "​",
            "_view_module": "@jupyter-widgets/controls",
            "_model_module_version": "1.5.0",
            "value": " 433/433 [00:20&lt;00:00, 21.2B/s]",
            "_view_count": null,
            "_view_module_version": "1.5.0",
            "description_tooltip": null,
            "_model_module": "@jupyter-widgets/controls",
            "layout": "IPY_MODEL_1c4b1784266f44bbb13bc6d43627870c"
          }
        },
        "4ae39961758d463897e4e6818b0756ff": {
          "model_module": "@jupyter-widgets/controls",
          "model_name": "ProgressStyleModel",
          "state": {
            "_view_name": "StyleView",
            "_model_name": "ProgressStyleModel",
            "description_width": "initial",
            "_view_module": "@jupyter-widgets/base",
            "_model_module_version": "1.5.0",
            "_view_count": null,
            "_view_module_version": "1.2.0",
            "bar_color": null,
            "_model_module": "@jupyter-widgets/controls"
          }
        },
        "bb97bb80eb284bc5a9463b345c87ae4d": {
          "model_module": "@jupyter-widgets/base",
          "model_name": "LayoutModel",
          "state": {
            "_view_name": "LayoutView",
            "grid_template_rows": null,
            "right": null,
            "justify_content": null,
            "_view_module": "@jupyter-widgets/base",
            "overflow": null,
            "_model_module_version": "1.2.0",
            "_view_count": null,
            "flex_flow": null,
            "width": null,
            "min_width": null,
            "border": null,
            "align_items": null,
            "bottom": null,
            "_model_module": "@jupyter-widgets/base",
            "top": null,
            "grid_column": null,
            "overflow_y": null,
            "overflow_x": null,
            "grid_auto_flow": null,
            "grid_area": null,
            "grid_template_columns": null,
            "flex": null,
            "_model_name": "LayoutModel",
            "justify_items": null,
            "grid_row": null,
            "max_height": null,
            "align_content": null,
            "visibility": null,
            "align_self": null,
            "height": null,
            "min_height": null,
            "padding": null,
            "grid_auto_rows": null,
            "grid_gap": null,
            "max_width": null,
            "order": null,
            "_view_module_version": "1.2.0",
            "grid_template_areas": null,
            "object_position": null,
            "object_fit": null,
            "grid_auto_columns": null,
            "margin": null,
            "display": null,
            "left": null
          }
        },
        "c8a6f2ffed784d9a89f09f912ad8af47": {
          "model_module": "@jupyter-widgets/controls",
          "model_name": "DescriptionStyleModel",
          "state": {
            "_view_name": "StyleView",
            "_model_name": "DescriptionStyleModel",
            "description_width": "",
            "_view_module": "@jupyter-widgets/base",
            "_model_module_version": "1.5.0",
            "_view_count": null,
            "_view_module_version": "1.2.0",
            "_model_module": "@jupyter-widgets/controls"
          }
        },
        "1c4b1784266f44bbb13bc6d43627870c": {
          "model_module": "@jupyter-widgets/base",
          "model_name": "LayoutModel",
          "state": {
            "_view_name": "LayoutView",
            "grid_template_rows": null,
            "right": null,
            "justify_content": null,
            "_view_module": "@jupyter-widgets/base",
            "overflow": null,
            "_model_module_version": "1.2.0",
            "_view_count": null,
            "flex_flow": null,
            "width": null,
            "min_width": null,
            "border": null,
            "align_items": null,
            "bottom": null,
            "_model_module": "@jupyter-widgets/base",
            "top": null,
            "grid_column": null,
            "overflow_y": null,
            "overflow_x": null,
            "grid_auto_flow": null,
            "grid_area": null,
            "grid_template_columns": null,
            "flex": null,
            "_model_name": "LayoutModel",
            "justify_items": null,
            "grid_row": null,
            "max_height": null,
            "align_content": null,
            "visibility": null,
            "align_self": null,
            "height": null,
            "min_height": null,
            "padding": null,
            "grid_auto_rows": null,
            "grid_gap": null,
            "max_width": null,
            "order": null,
            "_view_module_version": "1.2.0",
            "grid_template_areas": null,
            "object_position": null,
            "object_fit": null,
            "grid_auto_columns": null,
            "margin": null,
            "display": null,
            "left": null
          }
        },
        "569043aef46944fdb5b149a2a92f3429": {
          "model_module": "@jupyter-widgets/controls",
          "model_name": "HBoxModel",
          "state": {
            "_view_name": "HBoxView",
            "_dom_classes": [],
            "_model_name": "HBoxModel",
            "_view_module": "@jupyter-widgets/controls",
            "_model_module_version": "1.5.0",
            "_view_count": null,
            "_view_module_version": "1.5.0",
            "box_style": "",
            "layout": "IPY_MODEL_d0ec65963491499fa17b0c162f0eac3f",
            "_model_module": "@jupyter-widgets/controls",
            "children": [
              "IPY_MODEL_72e021c0b7e4440d820dccad37d38315",
              "IPY_MODEL_791e0fe0f3494010ac7162e3f5101dec"
            ]
          }
        },
        "d0ec65963491499fa17b0c162f0eac3f": {
          "model_module": "@jupyter-widgets/base",
          "model_name": "LayoutModel",
          "state": {
            "_view_name": "LayoutView",
            "grid_template_rows": null,
            "right": null,
            "justify_content": null,
            "_view_module": "@jupyter-widgets/base",
            "overflow": null,
            "_model_module_version": "1.2.0",
            "_view_count": null,
            "flex_flow": null,
            "width": null,
            "min_width": null,
            "border": null,
            "align_items": null,
            "bottom": null,
            "_model_module": "@jupyter-widgets/base",
            "top": null,
            "grid_column": null,
            "overflow_y": null,
            "overflow_x": null,
            "grid_auto_flow": null,
            "grid_area": null,
            "grid_template_columns": null,
            "flex": null,
            "_model_name": "LayoutModel",
            "justify_items": null,
            "grid_row": null,
            "max_height": null,
            "align_content": null,
            "visibility": null,
            "align_self": null,
            "height": null,
            "min_height": null,
            "padding": null,
            "grid_auto_rows": null,
            "grid_gap": null,
            "max_width": null,
            "order": null,
            "_view_module_version": "1.2.0",
            "grid_template_areas": null,
            "object_position": null,
            "object_fit": null,
            "grid_auto_columns": null,
            "margin": null,
            "display": null,
            "left": null
          }
        },
        "72e021c0b7e4440d820dccad37d38315": {
          "model_module": "@jupyter-widgets/controls",
          "model_name": "FloatProgressModel",
          "state": {
            "_view_name": "ProgressView",
            "style": "IPY_MODEL_1da0b33c89444d33bbb483a51b297c1b",
            "_dom_classes": [],
            "description": "Downloading: 100%",
            "_model_name": "FloatProgressModel",
            "bar_style": "success",
            "max": 536063208,
            "_view_module": "@jupyter-widgets/controls",
            "_model_module_version": "1.5.0",
            "value": 536063208,
            "_view_count": null,
            "_view_module_version": "1.5.0",
            "orientation": "horizontal",
            "min": 0,
            "description_tooltip": null,
            "_model_module": "@jupyter-widgets/controls",
            "layout": "IPY_MODEL_1bd17bc82a8e48a7ad30fdf2e618fe4d"
          }
        },
        "791e0fe0f3494010ac7162e3f5101dec": {
          "model_module": "@jupyter-widgets/controls",
          "model_name": "HTMLModel",
          "state": {
            "_view_name": "HTMLView",
            "style": "IPY_MODEL_df9f3eb63aee456194b7eb7a7861c52a",
            "_dom_classes": [],
            "description": "",
            "_model_name": "HTMLModel",
            "placeholder": "​",
            "_view_module": "@jupyter-widgets/controls",
            "_model_module_version": "1.5.0",
            "value": " 536M/536M [00:14&lt;00:00, 37.2MB/s]",
            "_view_count": null,
            "_view_module_version": "1.5.0",
            "description_tooltip": null,
            "_model_module": "@jupyter-widgets/controls",
            "layout": "IPY_MODEL_ebf677afbc804cdba5a971cf7a572535"
          }
        },
        "1da0b33c89444d33bbb483a51b297c1b": {
          "model_module": "@jupyter-widgets/controls",
          "model_name": "ProgressStyleModel",
          "state": {
            "_view_name": "StyleView",
            "_model_name": "ProgressStyleModel",
            "description_width": "initial",
            "_view_module": "@jupyter-widgets/base",
            "_model_module_version": "1.5.0",
            "_view_count": null,
            "_view_module_version": "1.2.0",
            "bar_color": null,
            "_model_module": "@jupyter-widgets/controls"
          }
        },
        "1bd17bc82a8e48a7ad30fdf2e618fe4d": {
          "model_module": "@jupyter-widgets/base",
          "model_name": "LayoutModel",
          "state": {
            "_view_name": "LayoutView",
            "grid_template_rows": null,
            "right": null,
            "justify_content": null,
            "_view_module": "@jupyter-widgets/base",
            "overflow": null,
            "_model_module_version": "1.2.0",
            "_view_count": null,
            "flex_flow": null,
            "width": null,
            "min_width": null,
            "border": null,
            "align_items": null,
            "bottom": null,
            "_model_module": "@jupyter-widgets/base",
            "top": null,
            "grid_column": null,
            "overflow_y": null,
            "overflow_x": null,
            "grid_auto_flow": null,
            "grid_area": null,
            "grid_template_columns": null,
            "flex": null,
            "_model_name": "LayoutModel",
            "justify_items": null,
            "grid_row": null,
            "max_height": null,
            "align_content": null,
            "visibility": null,
            "align_self": null,
            "height": null,
            "min_height": null,
            "padding": null,
            "grid_auto_rows": null,
            "grid_gap": null,
            "max_width": null,
            "order": null,
            "_view_module_version": "1.2.0",
            "grid_template_areas": null,
            "object_position": null,
            "object_fit": null,
            "grid_auto_columns": null,
            "margin": null,
            "display": null,
            "left": null
          }
        },
        "df9f3eb63aee456194b7eb7a7861c52a": {
          "model_module": "@jupyter-widgets/controls",
          "model_name": "DescriptionStyleModel",
          "state": {
            "_view_name": "StyleView",
            "_model_name": "DescriptionStyleModel",
            "description_width": "",
            "_view_module": "@jupyter-widgets/base",
            "_model_module_version": "1.5.0",
            "_view_count": null,
            "_view_module_version": "1.2.0",
            "_model_module": "@jupyter-widgets/controls"
          }
        },
        "ebf677afbc804cdba5a971cf7a572535": {
          "model_module": "@jupyter-widgets/base",
          "model_name": "LayoutModel",
          "state": {
            "_view_name": "LayoutView",
            "grid_template_rows": null,
            "right": null,
            "justify_content": null,
            "_view_module": "@jupyter-widgets/base",
            "overflow": null,
            "_model_module_version": "1.2.0",
            "_view_count": null,
            "flex_flow": null,
            "width": null,
            "min_width": null,
            "border": null,
            "align_items": null,
            "bottom": null,
            "_model_module": "@jupyter-widgets/base",
            "top": null,
            "grid_column": null,
            "overflow_y": null,
            "overflow_x": null,
            "grid_auto_flow": null,
            "grid_area": null,
            "grid_template_columns": null,
            "flex": null,
            "_model_name": "LayoutModel",
            "justify_items": null,
            "grid_row": null,
            "max_height": null,
            "align_content": null,
            "visibility": null,
            "align_self": null,
            "height": null,
            "min_height": null,
            "padding": null,
            "grid_auto_rows": null,
            "grid_gap": null,
            "max_width": null,
            "order": null,
            "_view_module_version": "1.2.0",
            "grid_template_areas": null,
            "object_position": null,
            "object_fit": null,
            "grid_auto_columns": null,
            "margin": null,
            "display": null,
            "left": null
          }
        }
      }
    },
    "accelerator": "GPU"
  },
  "cells": [
    {
      "cell_type": "markdown",
      "metadata": {
        "id": "view-in-github",
        "colab_type": "text"
      },
      "source": [
        "<a href=\"https://colab.research.google.com/github/amrlnic/SQuAD/blob/main/BERT.ipynb\" target=\"_parent\"><img src=\"https://colab.research.google.com/assets/colab-badge.svg\" alt=\"Open In Colab\"/></a>"
      ]
    },
    {
      "cell_type": "markdown",
      "metadata": {
        "id": "55828WPMjIbR"
      },
      "source": [
        "# Set up"
      ]
    },
    {
      "cell_type": "code",
      "metadata": {
        "id": "cEbFUGQyh6ch"
      },
      "source": [
        "%%capture\n",
        "!pip install transformers"
      ],
      "execution_count": 1,
      "outputs": []
    },
    {
      "cell_type": "code",
      "metadata": {
        "id": "5heFvOoGiP8h"
      },
      "source": [
        "import os, re, json, requests, io, string\n",
        "import numpy as np\n",
        "import tensorflow as tf\n",
        "from tensorflow import keras\n",
        "from tensorflow.keras import layers\n",
        "from tokenizers import BertWordPieceTokenizer\n",
        "from transformers import BertTokenizer, TFBertModel, BertConfig\n",
        "import pandas as pd\n",
        "import numpy as np\n",
        "import pickle\n",
        "import random\n",
        "\n",
        "# max input length\n",
        "MAX_LEN = 384\n",
        "\n",
        "# set seed\n",
        "random.seed(42)\n",
        "\n",
        "# suppress warnings\n",
        "tf.get_logger().setLevel('FATAL')\n",
        "\n",
        "# configuration of bert\n",
        "configuration = BertConfig()"
      ],
      "execution_count": 2,
      "outputs": []
    },
    {
      "cell_type": "code",
      "metadata": {
        "colab": {
          "base_uri": "https://localhost:8080/"
        },
        "id": "Ifdy9499Jl-v",
        "outputId": "1c026535-a464-4527-9271-793f6a6a41fa"
      },
      "source": [
        "# Load the Drive helper and mount\n",
        "from google.colab import drive\n",
        "drive.mount('/content/gdrive')"
      ],
      "execution_count": null,
      "outputs": [
        {
          "output_type": "stream",
          "text": [
            "Mounted at /content/gdrive\n"
          ],
          "name": "stdout"
        }
      ]
    },
    {
      "cell_type": "markdown",
      "metadata": {
        "id": "ns95EZ9jjXL_"
      },
      "source": [
        "# Set up tokenizer"
      ]
    },
    {
      "cell_type": "code",
      "metadata": {
        "id": "aO1kSoCVjg2X",
        "colab": {
          "base_uri": "https://localhost:8080/",
          "height": 164,
          "referenced_widgets": [
            "922788f2d70847bc9d2700d898b8398c",
            "e5c26423ed8d4c98bd7c89461b2e8478",
            "63d20547ccb941778b954bd055f48f7e",
            "612bd43931b94f55b4acd2486dfe5e6b",
            "7da93d6059ec4b95bb2809c1406b513e",
            "a0ce538447a243bebd493f52acd5c9a6",
            "c37e022d76d248fb9c083dde8b028934",
            "007612df16744127a35a4d9c0ff016a4",
            "ff36027f06794d1c98b558877b41933a",
            "4087231e4c6343d691c95fa780975892",
            "62dfad2014874aa792e2f5c1d23674c0",
            "c9a59f6bbabb45ad82079876b7fb2ee3",
            "90cc701197534b63ac9fb703b2005394",
            "7969a0e621944108b277b77f631d74ee",
            "0893928a85a946e985b626fd66de7154",
            "60543a05608c488094a67751ff4bf0e4",
            "a7ac35dc139c4af5aa3ab670de3d6fdf",
            "defe8c06d20f4202bb5e27eaebdd64f3",
            "d36f0fa2e9ad4e108c00d647b9289d75",
            "93e13ff277b54a14ae471858533c779d",
            "0f40763a1ddb4dcb898d289979d66c13",
            "80157b635e88467fb078ae3385547b30",
            "3217547e848d49b7b007b2f89dbed7cb",
            "f0d472496e1f4857982bb15a5d0ef6b3"
          ]
        },
        "outputId": "0dd04a1c-6ff7-42e6-a794-eff005ee1a08"
      },
      "source": [
        "# Save the slow pretrained tokenizer\n",
        "slow_tokenizer = BertTokenizer.from_pretrained(\"bert-base-uncased\")\n",
        "save_path = \"bert_base_uncased/\"\n",
        "if not os.path.exists(save_path):\n",
        "    os.makedirs(save_path)\n",
        "slow_tokenizer.save_pretrained(save_path)\n",
        "\n",
        "# Load the fast tokenizer from saved file\n",
        "tokenizer = BertWordPieceTokenizer(\"bert_base_uncased/vocab.txt\", lowercase=True)"
      ],
      "execution_count": 3,
      "outputs": [
        {
          "output_type": "display_data",
          "data": {
            "application/vnd.jupyter.widget-view+json": {
              "model_id": "922788f2d70847bc9d2700d898b8398c",
              "version_minor": 0,
              "version_major": 2
            },
            "text/plain": [
              "HBox(children=(FloatProgress(value=0.0, description='Downloading', max=231508.0, style=ProgressStyle(descripti…"
            ]
          },
          "metadata": {
            "tags": []
          }
        },
        {
          "output_type": "stream",
          "text": [
            "\n"
          ],
          "name": "stdout"
        },
        {
          "output_type": "display_data",
          "data": {
            "application/vnd.jupyter.widget-view+json": {
              "model_id": "ff36027f06794d1c98b558877b41933a",
              "version_minor": 0,
              "version_major": 2
            },
            "text/plain": [
              "HBox(children=(FloatProgress(value=0.0, description='Downloading', max=28.0, style=ProgressStyle(description_w…"
            ]
          },
          "metadata": {
            "tags": []
          }
        },
        {
          "output_type": "stream",
          "text": [
            "\n"
          ],
          "name": "stdout"
        },
        {
          "output_type": "display_data",
          "data": {
            "application/vnd.jupyter.widget-view+json": {
              "model_id": "a7ac35dc139c4af5aa3ab670de3d6fdf",
              "version_minor": 0,
              "version_major": 2
            },
            "text/plain": [
              "HBox(children=(FloatProgress(value=0.0, description='Downloading', max=466062.0, style=ProgressStyle(descripti…"
            ]
          },
          "metadata": {
            "tags": []
          }
        },
        {
          "output_type": "stream",
          "text": [
            "\n"
          ],
          "name": "stdout"
        }
      ]
    },
    {
      "cell_type": "markdown",
      "metadata": {
        "id": "JoFJwoUhjlZR"
      },
      "source": [
        "# Load data"
      ]
    },
    {
      "cell_type": "code",
      "metadata": {
        "colab": {
          "base_uri": "https://localhost:8080/"
        },
        "id": "T0jaIxPTLmxH",
        "outputId": "ee23da42-ab73-4050-9699-3488d7602fb3"
      },
      "source": [
        "\n",
        "url = \"https://raw.githubusercontent.com/amrlnic/SQuAD/main/data/training_set.json\" \n",
        "download = requests.get(url).content\n",
        "data = json.loads(download)\n",
        "\n",
        "def load_dataset(file, record_path = ['data', 'paragraphs', 'qas', 'answers'], verbose = True):\n",
        "\n",
        "  \"\"\"\n",
        "  parse the SQUAD dataset into a dataframe\n",
        "  \"\"\"\n",
        "\n",
        "  if verbose:\n",
        "      print(\"Reading the json file\")\n",
        "\n",
        "  if verbose:\n",
        "      print(\"[INFO] processing...\")\n",
        "\n",
        "  # parsing different level's in the json file\n",
        "  js = pd.json_normalize(file , record_path )\n",
        "  m = pd.json_normalize(file, record_path[:-1] )\n",
        "  r = pd.json_normalize(file, record_path[:-2])\n",
        "  t = pd.json_normalize(file, record_path[0])\n",
        "\n",
        "  title = pd.json_normalize(file['data'], record_path = ['paragraphs'], meta = 'title')\n",
        "\n",
        "  #combining it into single dataframe\n",
        "  idx = np.repeat(r['context'].values, r.qas.str.len())\n",
        "  ndx  = np.repeat(m['id'].values, m['answers'].str.len())\n",
        "  m['context'] = idx\n",
        "  m['title'] = np.repeat(title['title'].values, r.qas.str.len())\n",
        "  js['q_idx'] = ndx\n",
        "  main = pd.concat([ m[['id','question','context', 'title']].set_index('id'), js.set_index('q_idx')], 1, sort = False).reset_index()\n",
        "  main['c_id'] = main['context'].factorize()[0]\n",
        "  if verbose:\n",
        "      print(f\"[INFO] there are {main.shape[0]} questions with single answer\")\n",
        "      print(f\"[INFO] there are {main.groupby('c_id').sum().shape[0]} different contexts\")\n",
        "      print(f\"[INFO] there are {len(t)} unrelated subjects\")\n",
        "      print(\"[INFO] Done\")\n",
        "  return main\n",
        "\n",
        "\n",
        "# Load data\n",
        "squad_dataset = load_dataset(data)"
      ],
      "execution_count": 5,
      "outputs": [
        {
          "output_type": "stream",
          "text": [
            "Reading the json file\n",
            "[INFO] processing...\n",
            "[INFO] there are 87599 questions with single answer\n",
            "[INFO] there are 18891 different contexts\n",
            "[INFO] there are 442 unrelated subjects\n",
            "[INFO] Done\n"
          ],
          "name": "stdout"
        }
      ]
    },
    {
      "cell_type": "code",
      "metadata": {
        "colab": {
          "base_uri": "https://localhost:8080/",
          "height": 244
        },
        "id": "lzHPUWA45dzO",
        "outputId": "8bbc24e5-670f-4cb4-e834-e39a383d0b0f"
      },
      "source": [
        "squad_dataset.head(3)"
      ],
      "execution_count": 6,
      "outputs": [
        {
          "output_type": "execute_result",
          "data": {
            "text/html": [
              "<div>\n",
              "<style scoped>\n",
              "    .dataframe tbody tr th:only-of-type {\n",
              "        vertical-align: middle;\n",
              "    }\n",
              "\n",
              "    .dataframe tbody tr th {\n",
              "        vertical-align: top;\n",
              "    }\n",
              "\n",
              "    .dataframe thead th {\n",
              "        text-align: right;\n",
              "    }\n",
              "</style>\n",
              "<table border=\"1\" class=\"dataframe\">\n",
              "  <thead>\n",
              "    <tr style=\"text-align: right;\">\n",
              "      <th></th>\n",
              "      <th>index</th>\n",
              "      <th>question</th>\n",
              "      <th>context</th>\n",
              "      <th>title</th>\n",
              "      <th>answer_start</th>\n",
              "      <th>text</th>\n",
              "      <th>c_id</th>\n",
              "    </tr>\n",
              "  </thead>\n",
              "  <tbody>\n",
              "    <tr>\n",
              "      <th>0</th>\n",
              "      <td>5733be284776f41900661182</td>\n",
              "      <td>To whom did the Virgin Mary allegedly appear i...</td>\n",
              "      <td>Architecturally, the school has a Catholic cha...</td>\n",
              "      <td>University_of_Notre_Dame</td>\n",
              "      <td>515</td>\n",
              "      <td>Saint Bernadette Soubirous</td>\n",
              "      <td>0</td>\n",
              "    </tr>\n",
              "    <tr>\n",
              "      <th>1</th>\n",
              "      <td>5733be284776f4190066117f</td>\n",
              "      <td>What is in front of the Notre Dame Main Building?</td>\n",
              "      <td>Architecturally, the school has a Catholic cha...</td>\n",
              "      <td>University_of_Notre_Dame</td>\n",
              "      <td>188</td>\n",
              "      <td>a copper statue of Christ</td>\n",
              "      <td>0</td>\n",
              "    </tr>\n",
              "    <tr>\n",
              "      <th>2</th>\n",
              "      <td>5733be284776f41900661180</td>\n",
              "      <td>The Basilica of the Sacred heart at Notre Dame...</td>\n",
              "      <td>Architecturally, the school has a Catholic cha...</td>\n",
              "      <td>University_of_Notre_Dame</td>\n",
              "      <td>279</td>\n",
              "      <td>the Main Building</td>\n",
              "      <td>0</td>\n",
              "    </tr>\n",
              "  </tbody>\n",
              "</table>\n",
              "</div>"
            ],
            "text/plain": [
              "                      index  ... c_id\n",
              "0  5733be284776f41900661182  ...    0\n",
              "1  5733be284776f4190066117f  ...    0\n",
              "2  5733be284776f41900661180  ...    0\n",
              "\n",
              "[3 rows x 7 columns]"
            ]
          },
          "metadata": {
            "tags": []
          },
          "execution_count": 6
        }
      ]
    },
    {
      "cell_type": "markdown",
      "metadata": {
        "id": "Akd8JN0Z7Isv"
      },
      "source": [
        "# Pre - processing"
      ]
    },
    {
      "cell_type": "code",
      "metadata": {
        "id": "oCWKKV2RAhML"
      },
      "source": [
        "SAMPLES = squad_dataset.shape[0]\n",
        "\n",
        "def preprocess_sentence(text):\n",
        "\n",
        "  \"\"\"\n",
        "  lowercase and strip the given text\n",
        "  \"\"\"\n",
        "\n",
        "  text = text.lower()\n",
        "  text = text.strip()\n",
        "  return text\n",
        "\n",
        "def clean_dataset(dataset):\n",
        "\n",
        "  \"\"\"\n",
        "  preprocess the dataset\n",
        "  \"\"\"\n",
        "\n",
        "  _dataset = dataset.copy()\n",
        "\n",
        "  cleaned_questions = _dataset['question'].apply(preprocess_sentence)\n",
        "  cleaned_texts = _dataset['text'].apply(preprocess_sentence)\n",
        "\n",
        "  # we process only different contexts and then we duplicate them\n",
        "  unique_context = pd.Series(_dataset['context'].unique())\n",
        "  count_c = _dataset.groupby('c_id').count()['text']\n",
        "  cleaned_contexts = unique_context.apply(preprocess_sentence)\n",
        "\n",
        "  _dataset['question'] = cleaned_questions\n",
        "  _dataset['text'] = cleaned_texts\n",
        "  _dataset['context'] = pd.Series(np.repeat(cleaned_contexts, count_c).tolist())\n",
        "\n",
        "  return _dataset"
      ],
      "execution_count": null,
      "outputs": []
    },
    {
      "cell_type": "code",
      "metadata": {
        "id": "HSVZ45xxqqqz"
      },
      "source": [
        "squad_dataset = clean_dataset(squad_dataset)"
      ],
      "execution_count": null,
      "outputs": []
    },
    {
      "cell_type": "markdown",
      "metadata": {
        "id": "XgvUMpP7RjKl"
      },
      "source": [
        "# Split"
      ]
    },
    {
      "cell_type": "code",
      "metadata": {
        "id": "B7q_hIu8RUDI"
      },
      "source": [
        "def split(dataset, train_size = 0.8):\n",
        "\n",
        "  \"\"\"\n",
        "  split the dataset in two part: the training and the validation based on titles\n",
        "  \"\"\"\n",
        "\n",
        "  # find unique titles\n",
        "  titles = squad_dataset['title']\n",
        "  unique_titles = titles.unique()\n",
        "\n",
        "\n",
        "  n_titles = len(unique_titles)\n",
        "  titles_seq = list(range(n_titles))\n",
        "\n",
        "  train_len = int(n_titles*train_size)\n",
        "\n",
        "  # sample train indexes\n",
        "  train_ind = random.sample(titles_seq, train_len)\n",
        "  test_ind = list(set(titles_seq) - set(train_ind))\n",
        "\n",
        "  train_titles = unique_titles[train_ind]\n",
        "  test_titles = unique_titles[test_ind]\n",
        "\n",
        "  squad_columns = list(squad_dataset.columns)\n",
        "\n",
        "  # initialize empty train and test df\n",
        "  train_data = pd.DataFrame(columns = squad_columns)\n",
        "  test_data = pd.DataFrame(columns = squad_columns)\n",
        "\n",
        "  for train_title in train_titles:\n",
        "\n",
        "    train_section = squad_dataset[squad_dataset['title'] == train_title]\n",
        "    train_data = train_data.append(train_section)\n",
        "\n",
        "  for test_title in test_titles:\n",
        "\n",
        "    test_section = squad_dataset[squad_dataset['title'] == test_title]\n",
        "    test_data = test_data.append(test_section)\n",
        "\n",
        "\n",
        "  return train_data, test_data"
      ],
      "execution_count": null,
      "outputs": []
    },
    {
      "cell_type": "code",
      "metadata": {
        "colab": {
          "base_uri": "https://localhost:8080/"
        },
        "id": "qmlwoWxZRdt6",
        "outputId": "58a44f68-0f07-4bcd-a871-fefbfb3d2abe"
      },
      "source": [
        "tr_df, vl_df = split(squad_dataset)\n",
        "tr_df.shape[0],vl_df.shape[0]"
      ],
      "execution_count": null,
      "outputs": [
        {
          "output_type": "execute_result",
          "data": {
            "text/plain": [
              "(69129, 18470)"
            ]
          },
          "metadata": {
            "tags": []
          },
          "execution_count": 14
        }
      ]
    },
    {
      "cell_type": "markdown",
      "metadata": {
        "id": "U8kC65SqDvTZ"
      },
      "source": [
        "# Filter rows"
      ]
    },
    {
      "cell_type": "code",
      "metadata": {
        "id": "Rq8B58osDLvX"
      },
      "source": [
        "def skip(row):\n",
        "\n",
        "  \"\"\"\n",
        "  Create the input sequences and find the rows that we have to skip\n",
        "  \"\"\"\n",
        "\n",
        "  answer = row['text']\n",
        "  context = row['context']\n",
        "  start_char_idx = row['answer_start']\n",
        "  question = row['question']\n",
        "\n",
        "  # initialize skip column\n",
        "  row['skip'] = False\n",
        "\n",
        "\n",
        "  # Find end character index of answer in context\n",
        "  end_char_idx = start_char_idx + len(answer)\n",
        "\n",
        "  # Skip if the final character of the answer isn't in the context\n",
        "  if end_char_idx >= len(context):\n",
        "    row['skip'] = True\n",
        "    return row\n",
        "\n",
        "  # Mark the character indexes in context that are in answer\n",
        "  is_char_in_ans = [0] * len(context)\n",
        "  for idx in range(start_char_idx, end_char_idx):\n",
        "    is_char_in_ans[idx] = 1\n",
        "\n",
        "  # Tokenize context\n",
        "  tokenized_context = tokenizer.encode(context)\n",
        "  row['tokenized context'] = tokenized_context\n",
        "\n",
        "  # Find tokens that were created from answer characters\n",
        "  ans_token_idx = []\n",
        "  for idx, (start, end) in enumerate(tokenized_context.offsets):\n",
        "    if sum(is_char_in_ans[start:end]) > 0:\n",
        "      ans_token_idx.append(idx)\n",
        "\n",
        "  # Skip if there isn't an answer\n",
        "  if len(ans_token_idx) == 0:\n",
        "    row['skip'] = True\n",
        "    return row\n",
        "\n",
        "  # Find start and end token index for tokens from answer\n",
        "  start_token_idx = ans_token_idx[0]\n",
        "  end_token_idx = ans_token_idx[-1]\n",
        "\n",
        "  row['start token idx'] = start_token_idx\n",
        "  row['end token idx'] = end_token_idx\n",
        "\n",
        "  # Tokenize question\n",
        "  tokenized_question = tokenizer.encode(question)\n",
        "  row['tokenized question'] = tokenized_question\n",
        "\n",
        "  # Inputs of the model: here are used to determine whether to skip the row or not\n",
        "  input_ids = tokenized_context.ids + tokenized_question.ids[1:]\n",
        "  token_type_ids = [0] * len(tokenized_context.ids) + [1] * len(\n",
        "            tokenized_question.ids[1:]\n",
        "        )\n",
        "  \n",
        "  attention_mask = [1] * len(input_ids)\n",
        "\n",
        "  padding_length = MAX_LEN - len(input_ids)\n",
        "\n",
        "  if padding_length > 0:  # pad\n",
        "    input_ids = input_ids + ([0] * padding_length)\n",
        "    attention_mask = attention_mask + ([0] * padding_length)\n",
        "    token_type_ids = token_type_ids + ([0] * padding_length)\n",
        "  \n",
        "  # Skip if the input length is greater than the fixed max length\n",
        "  elif padding_length < 0:\n",
        "    row['skip'] = True\n",
        "  \n",
        "  row['input ids'] = np.array(input_ids)\n",
        "  row['token type ids'] = np.array(token_type_ids)\n",
        "  row['attention mask'] = np.array(attention_mask)\n",
        "\n",
        "  return row\n"
      ],
      "execution_count": null,
      "outputs": []
    },
    {
      "cell_type": "code",
      "metadata": {
        "colab": {
          "base_uri": "https://localhost:8080/"
        },
        "id": "8eTsENy6jU-t",
        "outputId": "f0e4879d-1cab-4e4c-c740-58fe91e557c8"
      },
      "source": [
        "# takes a while\n",
        "tr_df = tr_df.apply(skip, axis = 1)\n",
        "vl_df = vl_df.apply(skip, axis = 1)\n",
        "\n",
        "len(tr_df[tr_df['skip']]), len(vl_df[vl_df['skip']])"
      ],
      "execution_count": null,
      "outputs": [
        {
          "output_type": "execute_result",
          "data": {
            "text/plain": [
              "(1031, 421)"
            ]
          },
          "metadata": {
            "tags": []
          },
          "execution_count": 15
        }
      ]
    },
    {
      "cell_type": "code",
      "metadata": {
        "id": "pZ3CXWdL8CNk",
        "colab": {
          "base_uri": "https://localhost:8080/"
        },
        "outputId": "57d0169f-6fa2-4c06-a947-da0a63397199"
      },
      "source": [
        "# we get rid of samples where the answer doesn't match the context\n",
        "\n",
        "tr_df = tr_df[tr_df['skip'] == False]\n",
        "vl_df = vl_df[vl_df['skip'] == False]\n",
        "\n",
        "len(tr_df), len(vl_df)"
      ],
      "execution_count": null,
      "outputs": [
        {
          "output_type": "execute_result",
          "data": {
            "text/plain": [
              "(68098, 18049)"
            ]
          },
          "metadata": {
            "tags": []
          },
          "execution_count": 16
        }
      ]
    },
    {
      "cell_type": "markdown",
      "metadata": {
        "id": "VVWNLTKlN2xq"
      },
      "source": [
        "# Save datasets as json"
      ]
    },
    {
      "cell_type": "code",
      "metadata": {
        "id": "axtiEuSsN1Cn"
      },
      "source": [
        "def df_to_json(df, path):\n",
        "\n",
        "  \"\"\"\n",
        "  parse the given dataframe into the SQUAD json format\n",
        "  \"\"\"\n",
        "  \n",
        "  data = []\n",
        "\n",
        "  for title, articles in df.groupby('title'):\n",
        "    chapter = {'title': title}\n",
        "    paragraphs = []\n",
        "    for context, contents in articles.groupby('context'):\n",
        "      paragraph = {'context': context}\n",
        "      qas = []\n",
        "      for i, content in contents.iterrows():\n",
        "        qa = {'answers': [{'answer_start': content['answer_start'], 'text': content['text']}], 'question': content['question'], 'id': content['index']}\n",
        "        qas.append(qa)\n",
        "      paragraph.update({'qas': qas})\n",
        "      paragraphs.append(paragraph)\n",
        "    chapter.update({'paragraphs': paragraphs})\n",
        "    data.append(chapter)\n",
        "  raw_data = {'data': data}\n",
        "\n",
        "  with open(path, 'w') as handle:\n",
        "    json.dump(raw_data, handle)\n",
        "\n",
        "  print(f'dataset saved in {path}')"
      ],
      "execution_count": null,
      "outputs": []
    },
    {
      "cell_type": "code",
      "metadata": {
        "colab": {
          "base_uri": "https://localhost:8080/"
        },
        "id": "4lFv9wpDfDOj",
        "outputId": "0ca316f5-a294-463c-e295-a2d206a2abd0"
      },
      "source": [
        "# save datasets in json format\n",
        "path_to_train_set = os.path.join(os.getcwd(), 'BERT_train_set.json')\n",
        "df_to_json(tr_df, path_to_train_set)\n",
        "\n",
        "path_to_valid_set = os.path.join(os.getcwd(), 'BERT_valid_set.json')\n",
        "df_to_json(vl_df, path_to_valid_set)"
      ],
      "execution_count": null,
      "outputs": [
        {
          "output_type": "stream",
          "text": [
            "dataset saved in /content/BERT_train_set.json\n",
            "dataset saved in /content/BERT_valid_set.json\n"
          ],
          "name": "stdout"
        }
      ]
    },
    {
      "cell_type": "markdown",
      "metadata": {
        "id": "fHS6UOM707bE"
      },
      "source": [
        "# Define input and output"
      ]
    },
    {
      "cell_type": "code",
      "metadata": {
        "id": "8uI8ILDqkbaN"
      },
      "source": [
        "train_path = \"/content/gdrive/My Drive/Colab Notebooks/SQUAD_project/train_df\"\n",
        "val_path = \"/content/gdrive/My Drive/Colab Notebooks/SQUAD_project/val_df\""
      ],
      "execution_count": null,
      "outputs": []
    },
    {
      "cell_type": "code",
      "metadata": {
        "id": "r2rLUe9YJ4dN"
      },
      "source": [
        "# Save dataframes on drive \n",
        "\n",
        "#pickle.dump( tr_df, open(train_path, \"wb\" ) )\n",
        "#pickle.dump( vl_df, open(val_path, \"wb\" ) )"
      ],
      "execution_count": null,
      "outputs": []
    },
    {
      "cell_type": "code",
      "metadata": {
        "id": "Fkm4rVAHKiUm"
      },
      "source": [
        "# Load dataframes\n",
        "\n",
        "tr_df = pickle.load( open(train_path, \"rb\" ) )  \n",
        "vl_df = pickle.load( open(val_path, \"rb\" ) )  "
      ],
      "execution_count": null,
      "outputs": []
    },
    {
      "cell_type": "code",
      "metadata": {
        "id": "AGCwc1sb_fZL"
      },
      "source": [
        "def create_inputs_targets(squad_examples):\n",
        "\n",
        "  '''\n",
        "  Function to create inputs for the model\n",
        "\n",
        "  squad_examples (df)\n",
        "  '''\n",
        "\n",
        "  dataset_dict = {\n",
        "      \"input ids\": [],\n",
        "      \"token type ids\": [],\n",
        "      \"attention mask\": [],\n",
        "      \"start token idx\": [],\n",
        "      \"end token idx\": [],\n",
        "  }\n",
        "\n",
        "  n_items = len(squad_examples)\n",
        "  for i in range(n_items):\n",
        "    item = squad_examples.iloc[i]\n",
        "\n",
        "    for key in dataset_dict:\n",
        "      dataset_dict[key].append(getattr(item, key))\n",
        "\n",
        "  for key in dataset_dict:\n",
        "    dataset_dict[key] = np.array(dataset_dict[key])\n",
        "\n",
        "  x = [\n",
        "       dataset_dict[\"input ids\"],\n",
        "       dataset_dict[\"token type ids\"],\n",
        "       dataset_dict[\"attention mask\"],\n",
        "      ]\n",
        "  y = [dataset_dict[\"start token idx\"], dataset_dict[\"end token idx\"]]\n",
        "  return x, y"
      ],
      "execution_count": null,
      "outputs": []
    },
    {
      "cell_type": "code",
      "metadata": {
        "id": "gm2SvlR2Cegy"
      },
      "source": [
        "x_train, y_train = create_inputs_targets(tr_df)\n",
        "x_eval, y_eval = create_inputs_targets(vl_df)"
      ],
      "execution_count": null,
      "outputs": []
    },
    {
      "cell_type": "markdown",
      "metadata": {
        "id": "h-8L86bUpuRD"
      },
      "source": [
        "# Model"
      ]
    },
    {
      "cell_type": "code",
      "metadata": {
        "id": "VH6_m_uD3D0m"
      },
      "source": [
        "def create_model(enc_dec = True, enc_dim = 128, dec_dim = 64, \n",
        "                 rec_mod = 'biLSTM', bert_ft = True, \n",
        "                 dropout = False, drop_prob = 0.5):\n",
        "\n",
        "    \"\"\" \n",
        "    Returns a keras model for predicting the start and the end of the answer\n",
        "\n",
        "    enc_dec (boolean): whether to use the encoder decoder model or not. If False, the base model will be used\n",
        "    enc_dim (int): encoding dimension\n",
        "    dec_dim (int): decoding dimension\n",
        "    rec_mod (string): type of recurrent modules // 'biLSTM' or 'GRU'\n",
        "    bert_ft (boolean): whether or not the bert will be fine - tuned\n",
        "    dropout (boolean): whether or not using the dropout\n",
        "    drop_prob (double): dropout probability\n",
        "    \"\"\"\n",
        "\n",
        "    # use pre - trained BERT for creating the embeddings\n",
        "    bert_model = TFBertModel.from_pretrained(\"bert-base-uncased\")\n",
        "    if not bert_ft:\n",
        "      for layer in bert_model.layers:\n",
        "        layer.trainable = False\n",
        "\n",
        "    # input\n",
        "    input_ids = layers.Input(shape=(MAX_LEN,), dtype=tf.int32)\n",
        "    token_type_ids = layers.Input(shape=(MAX_LEN,), dtype=tf.int32)\n",
        "    attention_mask = layers.Input(shape=(MAX_LEN,), dtype=tf.int32)\n",
        "    embeddings = bert_model(\n",
        "        input_ids, token_type_ids = token_type_ids, attention_mask = attention_mask\n",
        "    )[0]\n",
        "\n",
        "\n",
        "    if enc_dec: # model with encoder - decoder\n",
        "\n",
        "\n",
        "      if rec_mod == 'biLSTM':\n",
        "\n",
        "        encoder = layers.Bidirectional(layers.LSTM(enc_dim, return_sequences = True), \n",
        "                                          merge_mode = 'concat')(embeddings)\n",
        "\n",
        "        decoder = layers.Bidirectional(layers.LSTM(dec_dim, return_sequences = True), \n",
        "                                                      merge_mode = 'concat')(encoder)\n",
        "\n",
        "        high_dim = dec_dim*2 # number of units of the dense layers of the highway network\n",
        "\n",
        "    \n",
        "      else:\n",
        "\n",
        "        encoder = layers.GRU(enc_dim, return_sequences = True)(embeddings)\n",
        "\n",
        "        decoder = layers.GRU(dec_dim, return_sequences = True)(encoder)\n",
        "\n",
        "        high_dim = dec_dim\n",
        "\n",
        "\n",
        "      # highway network\n",
        "      x_proj = layers.Dense(units = high_dim, activation = 'relu')(decoder)\n",
        "      x_gate = layers.Dense(units = high_dim, activation = 'sigmoid')(decoder)\n",
        "\n",
        "      x = (x_proj * x_gate) + (1 - x_gate) * decoder\n",
        "    \n",
        "\n",
        "    else: # base model\n",
        "\n",
        "      x = embeddings\n",
        "\n",
        "    # dropout\n",
        "    if dropout:\n",
        "      x = layers.Dropout(drop_prob)(x)\n",
        "\n",
        "    # output\n",
        "\n",
        "    start_logits = layers.Dense(1, use_bias = False)(x)\n",
        "    start_logits = layers.Flatten()(start_logits)\n",
        "\n",
        "    end_logits = layers.Dense(1, use_bias = False)(x)\n",
        "    end_logits = layers.Flatten()(end_logits)\n",
        "\n",
        "    start_probs = layers.Activation(keras.activations.softmax)(start_logits)\n",
        "    end_probs = layers.Activation(keras.activations.softmax)(end_logits)\n",
        "\n",
        "\n",
        "    model = keras.Model(\n",
        "        inputs = [input_ids, token_type_ids, attention_mask],\n",
        "        outputs = [start_probs, end_probs]\n",
        "    )\n",
        "\n",
        "    loss = keras.losses.SparseCategoricalCrossentropy(from_logits = False)\n",
        "    optimizer = keras.optimizers.Adam(lr = 5e-5)\n",
        "    model.compile(optimizer = optimizer, loss = [loss, loss])\n",
        "\n",
        "    return model"
      ],
      "execution_count": null,
      "outputs": []
    },
    {
      "cell_type": "code",
      "metadata": {
        "id": "FOkcMBHzGWA_",
        "colab": {
          "base_uri": "https://localhost:8080/",
          "height": 220,
          "referenced_widgets": [
            "c9bfb186aa7e4d7b932ae8923bf3c030",
            "a4c152f8196149b39aef9218d8bdbbd9",
            "7d454780d86243d093e985ca161f6c7f",
            "8f3fd106d9204b7ba74f9b221e1427ef",
            "4ae39961758d463897e4e6818b0756ff",
            "bb97bb80eb284bc5a9463b345c87ae4d",
            "c8a6f2ffed784d9a89f09f912ad8af47",
            "1c4b1784266f44bbb13bc6d43627870c",
            "569043aef46944fdb5b149a2a92f3429",
            "d0ec65963491499fa17b0c162f0eac3f",
            "72e021c0b7e4440d820dccad37d38315",
            "791e0fe0f3494010ac7162e3f5101dec",
            "1da0b33c89444d33bbb483a51b297c1b",
            "1bd17bc82a8e48a7ad30fdf2e618fe4d",
            "df9f3eb63aee456194b7eb7a7861c52a",
            "ebf677afbc804cdba5a971cf7a572535"
          ]
        },
        "outputId": "85416e49-c960-493c-fb99-c18e994b49ca"
      },
      "source": [
        "enc_dec = True\n",
        "rec_mod = 'biLSTM'\n",
        "ft = True\n",
        "dropout = False\n",
        "drop_prob = 0.5\n",
        "\n",
        "\n",
        "use_tpu = False\n",
        "if use_tpu:\n",
        "    # Create distribution strategy\n",
        "    tpu = tf.distribute.cluster_resolver.TPUClusterResolver()\n",
        "    tf.config.experimental_connect_to_cluster(tpu)\n",
        "    tf.tpu.experimental.initialize_tpu_system(tpu)\n",
        "    strategy = tf.distribute.experimental.TPUStrategy(tpu)\n",
        "\n",
        "    # Create model\n",
        "    with strategy.scope():\n",
        "        model = create_model(enc_dec = enc_dec, rec_mod = rec_mod, bert_ft = ft, \n",
        "                              dropout = dropout, drop_prob = drop_prob)\n",
        "else:\n",
        "    model = create_model(enc_dec = True, rec_mod = rec_mod, bert_ft = ft, \n",
        "                          dropout = dropout, drop_prob = drop_prob)"
      ],
      "execution_count": null,
      "outputs": [
        {
          "output_type": "display_data",
          "data": {
            "application/vnd.jupyter.widget-view+json": {
              "model_id": "c9bfb186aa7e4d7b932ae8923bf3c030",
              "version_minor": 0,
              "version_major": 2
            },
            "text/plain": [
              "HBox(children=(FloatProgress(value=0.0, description='Downloading', max=433.0, style=ProgressStyle(description_…"
            ]
          },
          "metadata": {
            "tags": []
          }
        },
        {
          "output_type": "stream",
          "text": [
            "\n"
          ],
          "name": "stdout"
        },
        {
          "output_type": "display_data",
          "data": {
            "application/vnd.jupyter.widget-view+json": {
              "model_id": "569043aef46944fdb5b149a2a92f3429",
              "version_minor": 0,
              "version_major": 2
            },
            "text/plain": [
              "HBox(children=(FloatProgress(value=0.0, description='Downloading', max=536063208.0, style=ProgressStyle(descri…"
            ]
          },
          "metadata": {
            "tags": []
          }
        },
        {
          "output_type": "stream",
          "text": [
            "\n"
          ],
          "name": "stdout"
        },
        {
          "output_type": "stream",
          "text": [
            "Some layers from the model checkpoint at bert-base-uncased were not used when initializing TFBertModel: ['mlm___cls', 'nsp___cls']\n",
            "- This IS expected if you are initializing TFBertModel from the checkpoint of a model trained on another task or with another architecture (e.g. initializing a BertForSequenceClassification model from a BertForPreTraining model).\n",
            "- This IS NOT expected if you are initializing TFBertModel from the checkpoint of a model that you expect to be exactly identical (initializing a BertForSequenceClassification model from a BertForSequenceClassification model).\n",
            "All the layers of TFBertModel were initialized from the model checkpoint at bert-base-uncased.\n",
            "If your task is similar to the task the model of the checkpoint was trained on, you can already use TFBertModel for predictions without further training.\n"
          ],
          "name": "stderr"
        }
      ]
    },
    {
      "cell_type": "code",
      "metadata": {
        "id": "g9qyPZRDbWqa",
        "colab": {
          "base_uri": "https://localhost:8080/"
        },
        "outputId": "53a4392e-3861-440a-a456-249cf01d7a52"
      },
      "source": [
        "model.summary()"
      ],
      "execution_count": null,
      "outputs": [
        {
          "output_type": "stream",
          "text": [
            "Model: \"model\"\n",
            "__________________________________________________________________________________________________\n",
            "Layer (type)                    Output Shape         Param #     Connected to                     \n",
            "==================================================================================================\n",
            "input_1 (InputLayer)            [(None, 384)]        0                                            \n",
            "__________________________________________________________________________________________________\n",
            "input_3 (InputLayer)            [(None, 384)]        0                                            \n",
            "__________________________________________________________________________________________________\n",
            "input_2 (InputLayer)            [(None, 384)]        0                                            \n",
            "__________________________________________________________________________________________________\n",
            "tf_bert_model (TFBertModel)     TFBaseModelOutputWit 109482240   input_1[0][0]                    \n",
            "                                                                 input_3[0][0]                    \n",
            "                                                                 input_2[0][0]                    \n",
            "__________________________________________________________________________________________________\n",
            "bidirectional (Bidirectional)   (None, 384, 256)     918528      tf_bert_model[0][0]              \n",
            "__________________________________________________________________________________________________\n",
            "bidirectional_1 (Bidirectional) (None, 384, 128)     164352      bidirectional[0][0]              \n",
            "__________________________________________________________________________________________________\n",
            "dense_1 (Dense)                 (None, 384, 128)     16512       bidirectional_1[0][0]            \n",
            "__________________________________________________________________________________________________\n",
            "dense (Dense)                   (None, 384, 128)     16512       bidirectional_1[0][0]            \n",
            "__________________________________________________________________________________________________\n",
            "tf.math.subtract (TFOpLambda)   (None, 384, 128)     0           dense_1[0][0]                    \n",
            "__________________________________________________________________________________________________\n",
            "tf.math.multiply (TFOpLambda)   (None, 384, 128)     0           dense[0][0]                      \n",
            "                                                                 dense_1[0][0]                    \n",
            "__________________________________________________________________________________________________\n",
            "tf.math.multiply_1 (TFOpLambda) (None, 384, 128)     0           tf.math.subtract[0][0]           \n",
            "                                                                 bidirectional_1[0][0]            \n",
            "__________________________________________________________________________________________________\n",
            "tf.__operators__.add (TFOpLambd (None, 384, 128)     0           tf.math.multiply[0][0]           \n",
            "                                                                 tf.math.multiply_1[0][0]         \n",
            "__________________________________________________________________________________________________\n",
            "dense_2 (Dense)                 (None, 384, 1)       128         tf.__operators__.add[0][0]       \n",
            "__________________________________________________________________________________________________\n",
            "dense_3 (Dense)                 (None, 384, 1)       128         tf.__operators__.add[0][0]       \n",
            "__________________________________________________________________________________________________\n",
            "flatten (Flatten)               (None, 384)          0           dense_2[0][0]                    \n",
            "__________________________________________________________________________________________________\n",
            "flatten_1 (Flatten)             (None, 384)          0           dense_3[0][0]                    \n",
            "__________________________________________________________________________________________________\n",
            "activation (Activation)         (None, 384)          0           flatten[0][0]                    \n",
            "__________________________________________________________________________________________________\n",
            "activation_1 (Activation)       (None, 384)          0           flatten_1[0][0]                  \n",
            "==================================================================================================\n",
            "Total params: 110,598,400\n",
            "Trainable params: 110,598,400\n",
            "Non-trainable params: 0\n",
            "__________________________________________________________________________________________________\n"
          ],
          "name": "stdout"
        }
      ]
    },
    {
      "cell_type": "code",
      "metadata": {
        "id": "mVrz3CnhjCUh"
      },
      "source": [
        "# Set the path for the weights and the file name for the predictions\n",
        "\n",
        "if not enc_dec:\n",
        "  weights_path = '/content/gdrive/My Drive/Colab Notebooks/SQUAD_project/bert_base_weights.h5'\n",
        "  pred_file = 'base_pred.json'\n",
        "\n",
        "elif rec_mod == 'GRU':\n",
        "  weights_path = '/content/gdrive/My Drive/Colab Notebooks/SQUAD_project/bert_gru_weights.h5'\n",
        "  pred_file = 'gru_pred.json'\n",
        "\n",
        "else:\n",
        "  weights_path = '/content/gdrive/My Drive/Colab Notebooks/SQUAD_project/bert_bilstm_weights.h5'\n",
        "  pred_file = 'bilstm_pred.json'"
      ],
      "execution_count": null,
      "outputs": []
    },
    {
      "cell_type": "markdown",
      "metadata": {
        "id": "44YHPxAzL4uH"
      },
      "source": [
        "## Create evaluation Callback\n",
        "\n",
        "This callback will compute the exact match score using the validation data\n",
        "after every epoch.\n"
      ]
    },
    {
      "cell_type": "code",
      "metadata": {
        "id": "75z_-Z3iZlwv"
      },
      "source": [
        "def normalize_text(text):\n",
        "    text = text.lower()\n",
        "\n",
        "    # Remove punctuations\n",
        "    exclude = set(string.punctuation)\n",
        "    text = \"\".join(ch for ch in text if ch not in exclude)\n",
        "\n",
        "    # Remove articles\n",
        "    regex = re.compile(r\"\\b(a|an|the)\\b\", re.UNICODE)\n",
        "    text = re.sub(regex, \" \", text)\n",
        "\n",
        "    # Remove extra white space\n",
        "    text = \" \".join(text.split())\n",
        "    return text"
      ],
      "execution_count": null,
      "outputs": []
    },
    {
      "cell_type": "code",
      "metadata": {
        "id": "D-LvzUW2bQY6"
      },
      "source": [
        "\n",
        "class ExactMatch(keras.callbacks.Callback):\n",
        "    \"\"\"\n",
        "    Keras callback to compute the Exact Match during the training phase\n",
        "    \"\"\"\n",
        "\n",
        "    def __init__(self, x_eval, y_eval):\n",
        "        self.x_eval = x_eval\n",
        "        self.y_eval = y_eval\n",
        "\n",
        "    def on_epoch_end(self, epoch, logs=None):\n",
        "        pred_start, pred_end = self.model.predict(self.x_eval)\n",
        "        count = 0\n",
        "\n",
        "        for idx, (start, end) in enumerate(zip(pred_start, pred_end)):\n",
        "\n",
        "          # take offsets\n",
        "          squad_eg = vl_df.iloc[idx]\n",
        "          offsets = squad_eg['tokenized context'].offsets\n",
        "\n",
        "          # find start and end of the answer\n",
        "          start = np.argmax(start)\n",
        "          end = np.argmax(end)\n",
        "\n",
        "          if start >= len(offsets):\n",
        "              continue\n",
        "\n",
        "          pred_char_start = offsets[start][0]\n",
        "\n",
        "          if end < len(offsets):\n",
        "            pred_char_end = offsets[end][1]\n",
        "            pred_ans = squad_eg.context[pred_char_start:pred_char_end]\n",
        "          else:\n",
        "            pred_ans = squad_eg.context[pred_char_start:]\n",
        "\n",
        "          normalized_pred_ans = normalize_text(pred_ans)\n",
        "          normalized_true_ans = normalize_text(squad_eg['text'])\n",
        "          \n",
        "          # count correct answers\n",
        "          if normalized_pred_ans == normalized_true_ans:\n",
        "                count += 1\n",
        "\n",
        "        acc = count / len(self.y_eval[0])\n",
        "        print(f\"\\nepoch = {epoch+1}, exact match score = {acc:.2f}\")\n",
        "\n"
      ],
      "execution_count": null,
      "outputs": []
    },
    {
      "cell_type": "markdown",
      "metadata": {
        "id": "24aY5QQbboAN"
      },
      "source": [
        "## Training"
      ]
    },
    {
      "cell_type": "code",
      "metadata": {
        "id": "zUTb0el4bQY7",
        "colab": {
          "base_uri": "https://localhost:8080/"
        },
        "outputId": "e999aef8-82f9-4543-b1ac-5cf43d438a5e"
      },
      "source": [
        "\n",
        "# checkpoint callback \n",
        "checkpoint = tf.keras.callbacks.ModelCheckpoint(\n",
        "        filepath = weights_path,\n",
        "        save_weights_only = True,\n",
        "        )\n",
        "\n",
        "exact_match_callback = ExactMatch(x_eval, y_eval)\n",
        "model.fit(\n",
        "    x_train,\n",
        "    y_train,\n",
        "    epochs = 3,\n",
        "    verbose = 1,\n",
        "    batch_size = 256,\n",
        "    callbacks = [exact_match_callback, checkpoint],\n",
        ")\n"
      ],
      "execution_count": null,
      "outputs": [
        {
          "output_type": "stream",
          "text": [
            "Epoch 1/3\n",
            "267/267 [==============================] - 328s 862ms/step - loss: 6.6882 - activation_2_loss: 3.3299 - activation_3_loss: 3.3583\n",
            "\n",
            "epoch = 1, exact match score = 0.62\n",
            "Epoch 2/3\n",
            "267/267 [==============================] - 184s 690ms/step - loss: 1.8805 - activation_2_loss: 0.9916 - activation_3_loss: 0.8889\n",
            "\n",
            "epoch = 2, exact match score = 0.64\n",
            "Epoch 3/3\n",
            "267/267 [==============================] - 184s 690ms/step - loss: 1.3753 - activation_2_loss: 0.7352 - activation_3_loss: 0.6401\n",
            "\n",
            "epoch = 3, exact match score = 0.65\n"
          ],
          "name": "stdout"
        },
        {
          "output_type": "execute_result",
          "data": {
            "text/plain": [
              "<tensorflow.python.keras.callbacks.History at 0x7f56b5844650>"
            ]
          },
          "metadata": {
            "tags": []
          },
          "execution_count": 29
        }
      ]
    },
    {
      "cell_type": "markdown",
      "metadata": {
        "id": "w0yFLYWbb2Pf"
      },
      "source": [
        "## Evaluation"
      ]
    },
    {
      "cell_type": "code",
      "metadata": {
        "colab": {
          "base_uri": "https://localhost:8080/"
        },
        "id": "msdw2-Amgysq",
        "outputId": "05740eb5-75d1-438c-9a1e-d880f7181b07"
      },
      "source": [
        "! git clone https://github.com/amrlnic/SQuAD.git"
      ],
      "execution_count": null,
      "outputs": [
        {
          "output_type": "stream",
          "text": [
            "Cloning into 'SQuAD'...\n",
            "remote: Enumerating objects: 146, done.\u001b[K\n",
            "remote: Counting objects: 100% (146/146), done.\u001b[K\n",
            "remote: Compressing objects: 100% (117/117), done.\u001b[K\n",
            "remote: Total 146 (delta 67), reused 71 (delta 18), pack-reused 0\u001b[K\n",
            "Receiving objects: 100% (146/146), 25.45 MiB | 7.74 MiB/s, done.\n",
            "Resolving deltas: 100% (67/67), done.\n"
          ],
          "name": "stdout"
        }
      ]
    },
    {
      "cell_type": "code",
      "metadata": {
        "id": "lr-KAko-iY6J"
      },
      "source": [
        "# Load weights\n",
        "\n",
        "model.load_weights(weights_path)"
      ],
      "execution_count": null,
      "outputs": []
    },
    {
      "cell_type": "code",
      "metadata": {
        "id": "hOrunjMib4xH"
      },
      "source": [
        "# Make predictions\n",
        "# The model outputs are the logits: we take them to find the answer position in the context\n",
        "\n",
        "raw_predictions = model.predict(x_eval) \n",
        "\n",
        "predictions = {}\n",
        "for i in range(len(raw_predictions[0])):\n",
        "  start=np.argmax(raw_predictions[0][i])\n",
        "  end=np.argmax(raw_predictions[1][i])\n",
        "  tokenized_answer = x_eval[0][i:i+1][0][start:end+1]\n",
        "\n",
        "  decoded = tokenizer.decode(tokenized_answer)\n",
        "\n",
        "  predictions[vl_df.iloc[i]['index']] = decoded\n",
        "\n",
        "##### Save model predictions on val set as a .JSON file  #####\n",
        "\n",
        "import json\n",
        "\n",
        "with open(pred_file, 'w') as fp:\n",
        "    json.dump(predictions, fp)"
      ],
      "execution_count": null,
      "outputs": []
    },
    {
      "cell_type": "markdown",
      "metadata": {
        "id": "EhvWWD_f3JAs"
      },
      "source": [
        "### Results"
      ]
    },
    {
      "cell_type": "markdown",
      "metadata": {
        "id": "DgH_YmqimWU_"
      },
      "source": [
        "Base BERT model (without dropout)"
      ]
    },
    {
      "cell_type": "code",
      "metadata": {
        "colab": {
          "base_uri": "https://localhost:8080/"
        },
        "id": "FbB6ythKkPN-",
        "outputId": "db9850cd-122f-40a5-f10f-4e69d64d1bf3"
      },
      "source": [
        "!python3 SQuAD/evaluation/evaluate.py SQuAD/BERT/BERT_valid_set.json base_pred.json"
      ],
      "execution_count": null,
      "outputs": [
        {
          "output_type": "stream",
          "text": [
            "{\n",
            "  \"exact\": 58.22483240068702,\n",
            "  \"f1\": 73.09466825255495,\n",
            "  \"total\": 18049,\n",
            "  \"HasAns_exact\": 58.22483240068702,\n",
            "  \"HasAns_f1\": 73.09466825255495,\n",
            "  \"HasAns_total\": 18049\n",
            "}\n"
          ],
          "name": "stdout"
        }
      ]
    },
    {
      "cell_type": "markdown",
      "metadata": {
        "id": "JMx3g8OH1xKh"
      },
      "source": [
        "Base BERT model (with dropout)"
      ]
    },
    {
      "cell_type": "code",
      "metadata": {
        "colab": {
          "base_uri": "https://localhost:8080/"
        },
        "id": "5k-Bf07m10He",
        "outputId": "c2b89d9b-9793-40e9-8088-d52f554f19d0"
      },
      "source": [
        "!python3 SQuAD/evaluation/evaluate.py SQuAD/BERT/BERT_valid_set.json base_pred.json"
      ],
      "execution_count": null,
      "outputs": [
        {
          "output_type": "stream",
          "text": [
            "{\n",
            "  \"exact\": 57.57659704138734,\n",
            "  \"f1\": 72.77917516172575,\n",
            "  \"total\": 18049,\n",
            "  \"HasAns_exact\": 57.57659704138734,\n",
            "  \"HasAns_f1\": 72.77917516172575,\n",
            "  \"HasAns_total\": 18049\n",
            "}\n"
          ],
          "name": "stdout"
        }
      ]
    },
    {
      "cell_type": "markdown",
      "metadata": {
        "id": "7XP2dYC614IE"
      },
      "source": [
        "Encoder decoder model with GRU (without dropout)"
      ]
    },
    {
      "cell_type": "code",
      "metadata": {
        "colab": {
          "base_uri": "https://localhost:8080/"
        },
        "id": "O8UVYZr91_Si",
        "outputId": "6d5cd55a-ee47-4bf5-c414-82538bbacc6b"
      },
      "source": [
        "!python3 SQuAD/evaluation/evaluate.py SQuAD/BERT/BERT_valid_set.json gru_pred.json"
      ],
      "execution_count": null,
      "outputs": [
        {
          "output_type": "stream",
          "text": [
            "{\n",
            "  \"exact\": 58.102941991246055,\n",
            "  \"f1\": 73.01719715699099,\n",
            "  \"total\": 18049,\n",
            "  \"HasAns_exact\": 58.102941991246055,\n",
            "  \"HasAns_f1\": 73.01719715699099,\n",
            "  \"HasAns_total\": 18049\n",
            "}\n"
          ],
          "name": "stdout"
        }
      ]
    },
    {
      "cell_type": "markdown",
      "metadata": {
        "id": "QVl2D3_Omdla"
      },
      "source": [
        "Encoder decoder model with GRU (with dropout)"
      ]
    },
    {
      "cell_type": "code",
      "metadata": {
        "colab": {
          "base_uri": "https://localhost:8080/"
        },
        "id": "ySWMq7wpcyaF",
        "outputId": "c6011dd4-22cf-4667-dde9-8454188aa345"
      },
      "source": [
        "!python3 SQuAD/evaluation/evaluate.py SQuAD/BERT/BERT_valid_set.json gru_pred.json"
      ],
      "execution_count": null,
      "outputs": [
        {
          "output_type": "stream",
          "text": [
            "{\n",
            "  \"exact\": 57.74835170923597,\n",
            "  \"f1\": 72.84090081520917,\n",
            "  \"total\": 18049,\n",
            "  \"HasAns_exact\": 57.74835170923597,\n",
            "  \"HasAns_f1\": 72.84090081520917,\n",
            "  \"HasAns_total\": 18049\n",
            "}\n"
          ],
          "name": "stdout"
        }
      ]
    },
    {
      "cell_type": "markdown",
      "metadata": {
        "id": "qU0cHtGf2BpL"
      },
      "source": [
        "Encoder decoder model with biLSTM (without dropout)"
      ]
    },
    {
      "cell_type": "code",
      "metadata": {
        "colab": {
          "base_uri": "https://localhost:8080/"
        },
        "id": "YnY-wNan2E2o",
        "outputId": "e8ab5f53-1b17-4008-e7d4-f3751b0d58e4"
      },
      "source": [
        "!python3 SQuAD/evaluation/evaluate.py SQuAD/BERT/BERT_valid_set.json bilstm_pred.json"
      ],
      "execution_count": null,
      "outputs": [
        {
          "output_type": "stream",
          "text": [
            "{\n",
            "  \"exact\": 58.09740151808965,\n",
            "  \"f1\": 73.62487528715513,\n",
            "  \"total\": 18049,\n",
            "  \"HasAns_exact\": 58.09740151808965,\n",
            "  \"HasAns_f1\": 73.62487528715513,\n",
            "  \"HasAns_total\": 18049\n",
            "}\n"
          ],
          "name": "stdout"
        }
      ]
    },
    {
      "cell_type": "markdown",
      "metadata": {
        "id": "9jz7GpBNmjwj"
      },
      "source": [
        "Encoder decoder model with biLSTM (with dropout)"
      ]
    },
    {
      "cell_type": "code",
      "metadata": {
        "colab": {
          "base_uri": "https://localhost:8080/"
        },
        "id": "P173kOQXkMYy",
        "outputId": "5802292b-3472-47da-e837-77196a8e4dac"
      },
      "source": [
        "!python3 SQuAD/evaluation/evaluate.py SQuAD/BERT/BERT_valid_set.json bilstm_pred.json"
      ],
      "execution_count": null,
      "outputs": [
        {
          "output_type": "stream",
          "text": [
            "{\n",
            "  \"exact\": 58.141725303340905,\n",
            "  \"f1\": 73.63989714507407,\n",
            "  \"total\": 18049,\n",
            "  \"HasAns_exact\": 58.141725303340905,\n",
            "  \"HasAns_f1\": 73.63989714507407,\n",
            "  \"HasAns_total\": 18049\n",
            "}\n"
          ],
          "name": "stdout"
        }
      ]
    }
  ]
}